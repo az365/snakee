{
 "cells": [
  {
   "cell_type": "code",
   "execution_count": 1,
   "metadata": {},
   "outputs": [],
   "source": [
    "from content.terms.term_classes import ProcessTerm, ObjectTerm, HierarchicTerm, TermRelation\n",
    "from content.fields.field_classes import struct\n",
    "from context import SnakeeContext\n",
    "\n",
    "from content.terms.terms_test import SEPULING, SEPULKA, SEPULKARIUM"
   ]
  },
  {
   "cell_type": "code",
   "execution_count": 2,
   "metadata": {},
   "outputs": [],
   "source": [
    "cx = SnakeeContext()"
   ]
  },
  {
   "cell_type": "code",
   "execution_count": null,
   "metadata": {},
   "outputs": [],
   "source": []
  },
  {
   "cell_type": "code",
   "execution_count": 3,
   "metadata": {},
   "outputs": [
    {
     "name": "stdout",
     "output_type": "stream",
     "text": [
      "ProcessTerm('sepuling', caption='an activity of Ardrites from the planet of Enteropia')\n"
     ]
    }
   ],
   "source": [
    "print(SEPULING)"
   ]
  },
  {
   "cell_type": "code",
   "execution_count": 4,
   "metadata": {},
   "outputs": [
    {
     "data": {
      "text/html": [
       "<h1>sepuling</h1>"
      ],
      "text/plain": [
       "<IPython.core.display.HTML object>"
      ]
     },
     "metadata": {},
     "output_type": "display_data"
    },
    {
     "data": {
      "text/html": [
       "<p style=\"line-height: 1.1em; margin-top: 0em; margin-bottom: 0em; padding-top: 0em; padding-bottom: 0em;\">ProcessTerm('sepuling')<br>\n",
       "an activity of Ardrites from the planet of Enteropia</p>"
      ],
      "text/plain": [
       "<IPython.core.display.HTML object>"
      ]
     },
     "metadata": {},
     "output_type": "display_data"
    },
    {
     "data": {
      "text/html": [
       "<p style=\"line-height: 1.1em; margin-top: 0em; margin-bottom: 0em; padding-top: 0em; padding-bottom: 0em;\">sepuling has 2 attributes in meta-data:</p>"
      ],
      "text/plain": [
       "<IPython.core.display.HTML object>"
      ]
     },
     "metadata": {},
     "output_type": "display_data"
    },
    {
     "data": {
      "text/html": [
       "<table>\n",
       "<thead>\n",
       "<tr>\n",
       "<th>prefix</th>\n",
       "<th>defined</th>\n",
       "<th>key</th>\n",
       "<th>value</th>\n",
       "<th>actual_type</th>\n",
       "<th>expected_type</th>\n",
       "<th>default</th>\n",
       "</tr>\n",
       "</thead>\n",
       "<tbody>\n",
       "<tr>\n",
       "<td style=\"Auto\">None</td>\n",
       "<td style=\"Auto\">+</td>\n",
       "<td style=\"Auto\">name</td>\n",
       "<td style=\"Auto\">'sepuling'</td>\n",
       "<td style=\"Auto\">str</td>\n",
       "<td style=\"Auto\">str</td>\n",
       "<td style=\"Auto\">-</td>\n",
       "</tr>\n",
       "<tr>\n",
       "<td style=\"Auto\">None</td>\n",
       "<td style=\"Auto\">+</td>\n",
       "<td style=\"Auto\">caption</td>\n",
       "<td style=\"Auto\">'an activity of Ardrites from the planet of Enteropia'</td>\n",
       "<td style=\"Auto\">str</td>\n",
       "<td style=\"Auto\">str</td>\n",
       "<td style=\"Auto\">''</td>\n",
       "</tr>\n",
       "</tbody>\n",
       "</table>"
      ],
      "text/plain": [
       "<IPython.core.display.HTML object>"
      ]
     },
     "metadata": {},
     "output_type": "display_data"
    },
    {
     "data": {
      "text/html": [
       "<h3>Fields</h3>"
      ],
      "text/plain": [
       "<IPython.core.display.HTML object>"
      ]
     },
     "metadata": {},
     "output_type": "display_data"
    },
    {
     "data": {
      "text/html": [
       "<table>\n",
       "<thead>\n",
       "<tr>\n",
       "<th>role</th>\n",
       "<th>name</th>\n",
       "<th>type</th>\n",
       "<th>caption</th>\n",
       "<th>repr</th>\n",
       "</tr>\n",
       "</thead>\n",
       "<tbody>\n",
       "<tr>\n",
       "<td style=\"Auto\">share</td>\n",
       "<td style=\"Auto\">sepuling_share</td>\n",
       "<td style=\"Auto\"><ValueType.Float: 'float'></td>\n",
       "<td style=\"Auto\">share of sepuling (an activity of Ardrites from the planet of Enteropia)</td>\n",
       "<td style=\"Auto\">None</td>\n",
       "</tr>\n",
       "</tbody>\n",
       "</table>"
      ],
      "text/plain": [
       "<IPython.core.display.HTML object>"
      ]
     },
     "metadata": {},
     "output_type": "display_data"
    },
    {
     "data": {
      "text/html": [
       "<h3>Relations</h3>"
      ],
      "text/plain": [
       "<IPython.core.display.HTML object>"
      ]
     },
     "metadata": {},
     "output_type": "display_data"
    },
    {
     "data": {
      "text/html": [
       "<table>\n",
       "<thead>\n",
       "<tr>\n",
       "<th>key</th>\n",
       "<th>value</th>\n",
       "</tr>\n",
       "</thead>\n",
       "<tbody>\n",
       "<tr>\n",
       "<td style=\"Auto\">ObjectTerm('sepulka', caption='a prominent element of the civilization of Ardrites from the planet of Enteropia')</td>\n",
       "<td style=\"Auto\"><TermRelation.Object: 'object'></td>\n",
       "</tr>\n",
       "<tr>\n",
       "<td style=\"Auto\">ObjectTerm('sepulkarium', caption='establishments used for sepuling')</td>\n",
       "<td style=\"Auto\"><TermRelation.Object: 'object'></td>\n",
       "</tr>\n",
       "</tbody>\n",
       "</table>"
      ],
      "text/plain": [
       "<IPython.core.display.HTML object>"
      ]
     },
     "metadata": {},
     "output_type": "display_data"
    },
    {
     "data": {
      "text/plain": [
       "sepuling"
      ]
     },
     "execution_count": 4,
     "metadata": {},
     "output_type": "execute_result"
    }
   ],
   "source": [
    "SEPULING.describe()"
   ]
  },
  {
   "cell_type": "code",
   "execution_count": 5,
   "metadata": {},
   "outputs": [
    {
     "data": {
      "text/html": [
       "<h1>sepulka</h1>"
      ],
      "text/plain": [
       "<IPython.core.display.HTML object>"
      ]
     },
     "metadata": {},
     "output_type": "display_data"
    },
    {
     "data": {
      "text/html": [
       "<p style=\"line-height: 1.1em; margin-top: 0em; margin-bottom: 0em; padding-top: 0em; padding-bottom: 0em;\">ObjectTerm('sepulka')<br>\n",
       "a prominent element of the civilization of Ardrites from the planet of Enteropia</p>"
      ],
      "text/plain": [
       "<IPython.core.display.HTML object>"
      ]
     },
     "metadata": {},
     "output_type": "display_data"
    },
    {
     "data": {
      "text/html": [
       "<p style=\"line-height: 1.1em; margin-top: 0em; margin-bottom: 0em; padding-top: 0em; padding-bottom: 0em;\">sepulka has 2 attributes in meta-data:</p>"
      ],
      "text/plain": [
       "<IPython.core.display.HTML object>"
      ]
     },
     "metadata": {},
     "output_type": "display_data"
    },
    {
     "data": {
      "text/html": [
       "<table>\n",
       "<thead>\n",
       "<tr>\n",
       "<th>prefix</th>\n",
       "<th>defined</th>\n",
       "<th>key</th>\n",
       "<th>value</th>\n",
       "<th>actual_type</th>\n",
       "<th>expected_type</th>\n",
       "<th>default</th>\n",
       "</tr>\n",
       "</thead>\n",
       "<tbody>\n",
       "<tr>\n",
       "<td style=\"Auto\">None</td>\n",
       "<td style=\"Auto\">+</td>\n",
       "<td style=\"Auto\">name</td>\n",
       "<td style=\"Auto\">'sepulka'</td>\n",
       "<td style=\"Auto\">str</td>\n",
       "<td style=\"Auto\">str</td>\n",
       "<td style=\"Auto\">-</td>\n",
       "</tr>\n",
       "<tr>\n",
       "<td style=\"Auto\">None</td>\n",
       "<td style=\"Auto\">+</td>\n",
       "<td style=\"Auto\">caption</td>\n",
       "<td style=\"Auto\">'a prominent element of the civilization of Ardrites from the planet of Enteropia'</td>\n",
       "<td style=\"Auto\">str</td>\n",
       "<td style=\"Auto\">str</td>\n",
       "<td style=\"Auto\">''</td>\n",
       "</tr>\n",
       "</tbody>\n",
       "</table>"
      ],
      "text/plain": [
       "<IPython.core.display.HTML object>"
      ]
     },
     "metadata": {},
     "output_type": "display_data"
    },
    {
     "data": {
      "text/html": [
       "<h3>Fields</h3>"
      ],
      "text/plain": [
       "<IPython.core.display.HTML object>"
      ]
     },
     "metadata": {},
     "output_type": "display_data"
    },
    {
     "data": {
      "text/html": [
       "<table>\n",
       "<thead>\n",
       "<tr>\n",
       "<th>role</th>\n",
       "<th>name</th>\n",
       "<th>type</th>\n",
       "<th>caption</th>\n",
       "<th>repr</th>\n",
       "</tr>\n",
       "</thead>\n",
       "<tbody>\n",
       "<tr>\n",
       "<td style=\"Auto\">id</td>\n",
       "<td style=\"Auto\">sepulka_id</td>\n",
       "<td style=\"Auto\"><ValueType.Int: 'int'></td>\n",
       "<td style=\"Auto\">id of sepulka (a prominent element of the civilization of Ardrites from the planet of Enteropia)</td>\n",
       "<td style=\"Auto\">None</td>\n",
       "</tr>\n",
       "<tr>\n",
       "<td style=\"Auto\">name</td>\n",
       "<td style=\"Auto\">sepulka_name</td>\n",
       "<td style=\"Auto\"><ValueType.Str: 'str'></td>\n",
       "<td style=\"Auto\">name of sepulka (a prominent element of the civilization of Ardrites from the planet of Enteropia)</td>\n",
       "<td style=\"Auto\">None</td>\n",
       "</tr>\n",
       "<tr>\n",
       "<td style=\"Auto\">count</td>\n",
       "<td style=\"Auto\">sepulka_count</td>\n",
       "<td style=\"Auto\"><ValueType.Int: 'int'></td>\n",
       "<td style=\"Auto\">count of sepulka (a prominent element of the civilization of Ardrites from the planet of Enteropia)</td>\n",
       "<td style=\"Auto\">None</td>\n",
       "</tr>\n",
       "</tbody>\n",
       "</table>"
      ],
      "text/plain": [
       "<IPython.core.display.HTML object>"
      ]
     },
     "metadata": {},
     "output_type": "display_data"
    },
    {
     "data": {
      "text/html": [
       "<h3>Relations</h3>"
      ],
      "text/plain": [
       "<IPython.core.display.HTML object>"
      ]
     },
     "metadata": {},
     "output_type": "display_data"
    },
    {
     "data": {
      "text/html": [
       "<table>\n",
       "<thead>\n",
       "<tr>\n",
       "<th>key</th>\n",
       "<th>value</th>\n",
       "</tr>\n",
       "</thead>\n",
       "<tbody>\n",
       "<tr>\n",
       "<td style=\"Auto\">ProcessTerm('sepuling', caption='an activity of Ardrites from the planet of Enteropia')</td>\n",
       "<td style=\"Auto\"><TermRelation.Process: 'process'></td>\n",
       "</tr>\n",
       "<tr>\n",
       "<td style=\"Auto\">ObjectTerm('sepulkarium', caption='establishments used for sepuling')</td>\n",
       "<td style=\"Auto\"><TermRelation.ManyToOne: 'many_to_one'></td>\n",
       "</tr>\n",
       "</tbody>\n",
       "</table>"
      ],
      "text/plain": [
       "<IPython.core.display.HTML object>"
      ]
     },
     "metadata": {},
     "output_type": "display_data"
    },
    {
     "data": {
      "text/plain": [
       "sepulka"
      ]
     },
     "execution_count": 5,
     "metadata": {},
     "output_type": "execute_result"
    }
   ],
   "source": [
    "SEPULKA.describe()"
   ]
  },
  {
   "cell_type": "code",
   "execution_count": 6,
   "metadata": {},
   "outputs": [
    {
     "data": {
      "text/html": [
       "<h1>sepulkarium</h1>"
      ],
      "text/plain": [
       "<IPython.core.display.HTML object>"
      ]
     },
     "metadata": {},
     "output_type": "display_data"
    },
    {
     "data": {
      "text/html": [
       "<p style=\"line-height: 1.1em; margin-top: 0em; margin-bottom: 0em; padding-top: 0em; padding-bottom: 0em;\">ObjectTerm('sepulkarium')<br>\n",
       "establishments used for sepuling</p>"
      ],
      "text/plain": [
       "<IPython.core.display.HTML object>"
      ]
     },
     "metadata": {},
     "output_type": "display_data"
    },
    {
     "data": {
      "text/html": [
       "<p style=\"line-height: 1.1em; margin-top: 0em; margin-bottom: 0em; padding-top: 0em; padding-bottom: 0em;\">sepulkarium has 2 attributes in meta-data:</p>"
      ],
      "text/plain": [
       "<IPython.core.display.HTML object>"
      ]
     },
     "metadata": {},
     "output_type": "display_data"
    },
    {
     "data": {
      "text/html": [
       "<table>\n",
       "<thead>\n",
       "<tr>\n",
       "<th>prefix</th>\n",
       "<th>defined</th>\n",
       "<th>key</th>\n",
       "<th>value</th>\n",
       "<th>actual_type</th>\n",
       "<th>expected_type</th>\n",
       "<th>default</th>\n",
       "</tr>\n",
       "</thead>\n",
       "<tbody>\n",
       "<tr>\n",
       "<td style=\"Auto\">None</td>\n",
       "<td style=\"Auto\">+</td>\n",
       "<td style=\"Auto\">name</td>\n",
       "<td style=\"Auto\">'sepulkarium'</td>\n",
       "<td style=\"Auto\">str</td>\n",
       "<td style=\"Auto\">str</td>\n",
       "<td style=\"Auto\">-</td>\n",
       "</tr>\n",
       "<tr>\n",
       "<td style=\"Auto\">None</td>\n",
       "<td style=\"Auto\">+</td>\n",
       "<td style=\"Auto\">caption</td>\n",
       "<td style=\"Auto\">'establishments used for sepuling'</td>\n",
       "<td style=\"Auto\">str</td>\n",
       "<td style=\"Auto\">str</td>\n",
       "<td style=\"Auto\">''</td>\n",
       "</tr>\n",
       "</tbody>\n",
       "</table>"
      ],
      "text/plain": [
       "<IPython.core.display.HTML object>"
      ]
     },
     "metadata": {},
     "output_type": "display_data"
    },
    {
     "data": {
      "text/html": [
       "<h3>Fields</h3>"
      ],
      "text/plain": [
       "<IPython.core.display.HTML object>"
      ]
     },
     "metadata": {},
     "output_type": "display_data"
    },
    {
     "data": {
      "text/html": [
       "<table>\n",
       "<thead>\n",
       "<tr>\n",
       "<th>role</th>\n",
       "<th>name</th>\n",
       "<th>type</th>\n",
       "<th>caption</th>\n",
       "<th>repr</th>\n",
       "</tr>\n",
       "</thead>\n",
       "<tbody>\n",
       "<tr>\n",
       "<td style=\"Auto\">id</td>\n",
       "<td style=\"Auto\">sepulkarium_id</td>\n",
       "<td style=\"Auto\"><ValueType.Int: 'int'></td>\n",
       "<td style=\"Auto\">id of sepulkarium (establishments used for sepuling)</td>\n",
       "<td style=\"Auto\">None</td>\n",
       "</tr>\n",
       "<tr>\n",
       "<td style=\"Auto\">name</td>\n",
       "<td style=\"Auto\">sepulkarium_name</td>\n",
       "<td style=\"Auto\"><ValueType.Str: 'str'></td>\n",
       "<td style=\"Auto\">name of sepulkarium (establishments used for sepuling)</td>\n",
       "<td style=\"Auto\">None</td>\n",
       "</tr>\n",
       "</tbody>\n",
       "</table>"
      ],
      "text/plain": [
       "<IPython.core.display.HTML object>"
      ]
     },
     "metadata": {},
     "output_type": "display_data"
    },
    {
     "data": {
      "text/html": [
       "<h3>Relations</h3>"
      ],
      "text/plain": [
       "<IPython.core.display.HTML object>"
      ]
     },
     "metadata": {},
     "output_type": "display_data"
    },
    {
     "data": {
      "text/html": [
       "<table>\n",
       "<thead>\n",
       "<tr>\n",
       "<th>key</th>\n",
       "<th>value</th>\n",
       "</tr>\n",
       "</thead>\n",
       "<tbody>\n",
       "<tr>\n",
       "<td style=\"Auto\">ObjectTerm('sepulka', caption='a prominent element of the civilization of Ardrites from the planet of Enteropia')</td>\n",
       "<td style=\"Auto\"><TermRelation.OneToMany: 'one_to_many'></td>\n",
       "</tr>\n",
       "<tr>\n",
       "<td style=\"Auto\">ProcessTerm('sepuling', caption='an activity of Ardrites from the planet of Enteropia')</td>\n",
       "<td style=\"Auto\"><TermRelation.Process: 'process'></td>\n",
       "</tr>\n",
       "</tbody>\n",
       "</table>"
      ],
      "text/plain": [
       "<IPython.core.display.HTML object>"
      ]
     },
     "metadata": {},
     "output_type": "display_data"
    },
    {
     "data": {
      "text/plain": [
       "sepulkarium"
      ]
     },
     "execution_count": 6,
     "metadata": {},
     "output_type": "execute_result"
    }
   ],
   "source": [
    "SEPULKARIUM.describe()"
   ]
  },
  {
   "cell_type": "code",
   "execution_count": null,
   "metadata": {},
   "outputs": [],
   "source": []
  },
  {
   "cell_type": "code",
   "execution_count": null,
   "metadata": {},
   "outputs": [],
   "source": []
  },
  {
   "cell_type": "code",
   "execution_count": 7,
   "metadata": {},
   "outputs": [],
   "source": [
    "SEPULKA_ID = SEPULKA.get_id_field()"
   ]
  },
  {
   "cell_type": "code",
   "execution_count": 8,
   "metadata": {},
   "outputs": [
    {
     "data": {
      "text/html": [
       "<h1>sepulka_id</h1>"
      ],
      "text/plain": [
       "<IPython.core.display.HTML object>"
      ]
     },
     "metadata": {},
     "output_type": "display_data"
    },
    {
     "data": {
      "text/html": [
       "<p style=\"line-height: 1.1em; margin-top: 0em; margin-bottom: 0em; padding-top: 0em; padding-bottom: 0em;\">sepulka_id: int<br>\n",
       "&nbsp;&nbsp;&nbsp;&nbsp;name:&nbsp;&nbsp;&nbsp;&nbsp;&nbsp;&nbsp;sepulka_id<br>\n",
       "&nbsp;&nbsp;&nbsp;&nbsp;caption:&nbsp;&nbsp; id of sepulka (a prominent element of the civilization of Ardrites from the planet of Enteropia)<br>\n",
       "&nbsp;&nbsp;&nbsp;&nbsp;meta:&nbsp;&nbsp;&nbsp;&nbsp;&nbsp;&nbsp;value_type=ValueType.Int, representation=None, default_value=None, example_value=None, default_item_type=<br>\n",
       "</p>"
      ],
      "text/plain": [
       "<IPython.core.display.HTML object>"
      ]
     },
     "metadata": {},
     "output_type": "display_data"
    },
    {
     "data": {
      "text/html": [
       "<p style=\"line-height: 1.1em; margin-top: 0em; margin-bottom: 0em; padding-top: 0em; padding-bottom: 0em;\">sepulka_id: int has 12 attributes in meta-data:</p>"
      ],
      "text/plain": [
       "<IPython.core.display.HTML object>"
      ]
     },
     "metadata": {},
     "output_type": "display_data"
    },
    {
     "data": {
      "text/html": [
       "<table>\n",
       "<thead>\n",
       "<tr>\n",
       "<th>prefix</th>\n",
       "<th>defined</th>\n",
       "<th>key</th>\n",
       "<th>value</th>\n",
       "<th>actual_type</th>\n",
       "<th>expected_type</th>\n",
       "<th>default</th>\n",
       "</tr>\n",
       "</thead>\n",
       "<tbody>\n",
       "<tr>\n",
       "<td style=\"Auto\">None</td>\n",
       "<td style=\"Auto\">+</td>\n",
       "<td style=\"Auto\">name</td>\n",
       "<td style=\"Auto\">'sepulka_id'</td>\n",
       "<td style=\"Auto\">str</td>\n",
       "<td style=\"Auto\">str</td>\n",
       "<td style=\"Auto\">-</td>\n",
       "</tr>\n",
       "<tr>\n",
       "<td style=\"Auto\">None</td>\n",
       "<td style=\"Auto\">+</td>\n",
       "<td style=\"Auto\">value_type</td>\n",
       "<td style=\"Auto\">ValueType.Int</td>\n",
       "<td style=\"Auto\">ValueType</td>\n",
       "<td style=\"Auto\">ValueType</td>\n",
       "<td style=\"Auto\">ValueType.Any</td>\n",
       "</tr>\n",
       "<tr>\n",
       "<td style=\"Auto\">None</td>\n",
       "<td style=\"Auto\">-</td>\n",
       "<td style=\"Auto\">representation</td>\n",
       "<td style=\"Auto\">-</td>\n",
       "<td style=\"Auto\">NoneType</td>\n",
       "<td style=\"Auto\">Union[content.representations.repr_interface.RepresentationInterface, str, NoneType]</td>\n",
       "<td style=\"Auto\">-</td>\n",
       "</tr>\n",
       "<tr>\n",
       "<td style=\"Auto\">None</td>\n",
       "<td style=\"Auto\">+</td>\n",
       "<td style=\"Auto\">caption</td>\n",
       "<td style=\"Auto\">'id of sepulka (a prominent element of the civilization of Ardrites from the planet of Enteropia)'</td>\n",
       "<td style=\"Auto\">str</td>\n",
       "<td style=\"Auto\">str</td>\n",
       "<td style=\"Auto\">''</td>\n",
       "</tr>\n",
       "<tr>\n",
       "<td style=\"Auto\">None</td>\n",
       "<td style=\"Auto\">-</td>\n",
       "<td style=\"Auto\">default_item_type</td>\n",
       "<td style=\"Auto\">ItemType.Any</td>\n",
       "<td style=\"Auto\">ItemType</td>\n",
       "<td style=\"Auto\">ItemType</td>\n",
       "<td style=\"Auto\">ItemType.Any</td>\n",
       "</tr>\n",
       "<tr>\n",
       "<td style=\"Auto\">None</td>\n",
       "<td style=\"Auto\">-</td>\n",
       "<td style=\"Auto\">default_value</td>\n",
       "<td style=\"Auto\">-</td>\n",
       "<td style=\"Auto\">NoneType</td>\n",
       "<td style=\"Auto\">Any</td>\n",
       "<td style=\"Auto\">-</td>\n",
       "</tr>\n",
       "<tr>\n",
       "<td style=\"Auto\">None</td>\n",
       "<td style=\"Auto\">-</td>\n",
       "<td style=\"Auto\">example_value</td>\n",
       "<td style=\"Auto\">-</td>\n",
       "<td style=\"Auto\">NoneType</td>\n",
       "<td style=\"Auto\">Any</td>\n",
       "<td style=\"Auto\">-</td>\n",
       "</tr>\n",
       "<tr>\n",
       "<td style=\"Auto\">None</td>\n",
       "<td style=\"Auto\">-</td>\n",
       "<td style=\"Auto\">is_valid</td>\n",
       "<td style=\"Auto\">Auto</td>\n",
       "<td style=\"Auto\">Auto</td>\n",
       "<td style=\"Auto\">Union[base.classes.auto.Auto, bool]</td>\n",
       "<td style=\"Auto\">Auto</td>\n",
       "</tr>\n",
       "<tr>\n",
       "<td style=\"Auto\">None</td>\n",
       "<td style=\"Auto\">-</td>\n",
       "<td style=\"Auto\">skip_errors</td>\n",
       "<td style=\"Auto\">False</td>\n",
       "<td style=\"Auto\">bool</td>\n",
       "<td style=\"Auto\">bool</td>\n",
       "<td style=\"Auto\">False</td>\n",
       "</tr>\n",
       "<tr>\n",
       "<td style=\"Auto\">None</td>\n",
       "<td style=\"Auto\">-</td>\n",
       "<td style=\"Auto\">logger</td>\n",
       "<td style=\"Auto\">-</td>\n",
       "<td style=\"Auto\">NoneType</td>\n",
       "<td style=\"Auto\">Union[loggers.selection_logger_interface.SelectionLoggerInterface, NoneType]</td>\n",
       "<td style=\"Auto\">-</td>\n",
       "</tr>\n",
       "<tr>\n",
       "<td style=\"Auto\">None</td>\n",
       "<td style=\"Auto\">+</td>\n",
       "<td style=\"Auto\">group_name</td>\n",
       "<td style=\"Auto\">'SEPULKA_MASTER'</td>\n",
       "<td style=\"Auto\">str</td>\n",
       "<td style=\"Auto\">Union[str, NoneType]</td>\n",
       "<td style=\"Auto\">-</td>\n",
       "</tr>\n",
       "<tr>\n",
       "<td style=\"Auto\">None</td>\n",
       "<td style=\"Auto\">x</td>\n",
       "<td style=\"Auto\">group_caption</td>\n",
       "<td style=\"Auto\">''</td>\n",
       "<td style=\"Auto\">str</td>\n",
       "<td style=\"Auto\">Union[str, NoneType]</td>\n",
       "<td style=\"Auto\">-</td>\n",
       "</tr>\n",
       "</tbody>\n",
       "</table>"
      ],
      "text/plain": [
       "<IPython.core.display.HTML object>"
      ]
     },
     "metadata": {},
     "output_type": "display_data"
    },
    {
     "data": {
      "text/plain": [
       "sepulka_id: int"
      ]
     },
     "execution_count": 8,
     "metadata": {},
     "output_type": "execute_result"
    }
   ],
   "source": [
    "SEPULKA_ID.describe()"
   ]
  },
  {
   "cell_type": "code",
   "execution_count": null,
   "metadata": {},
   "outputs": [],
   "source": []
  },
  {
   "cell_type": "code",
   "execution_count": 9,
   "metadata": {},
   "outputs": [],
   "source": [
    "LOCATION = HierarchicTerm('location', 'location of sepulka', ['planet', 'region', 'sepulcarium', 'slot'])"
   ]
  },
  {
   "cell_type": "code",
   "execution_count": 10,
   "metadata": {},
   "outputs": [
    {
     "data": {
      "text/plain": [
       "location"
      ]
     },
     "execution_count": 10,
     "metadata": {},
     "output_type": "execute_result"
    }
   ],
   "source": [
    "LOCATION"
   ]
  },
  {
   "cell_type": "code",
   "execution_count": 11,
   "metadata": {},
   "outputs": [
    {
     "name": "stdout",
     "output_type": "stream",
     "text": [
      "HierarchicTerm('location', caption='location of sepulka', levels=[planet, region, sepulcarium, slot], default_level=s..)\n"
     ]
    }
   ],
   "source": [
    "print(LOCATION)"
   ]
  },
  {
   "cell_type": "code",
   "execution_count": 12,
   "metadata": {},
   "outputs": [
    {
     "data": {
      "text/html": [
       "<h1>location</h1>"
      ],
      "text/plain": [
       "<IPython.core.display.HTML object>"
      ]
     },
     "metadata": {},
     "output_type": "display_data"
    },
    {
     "data": {
      "text/html": [
       "<p style=\"line-height: 1.1em; margin-top: 0em; margin-bottom: 0em; padding-top: 0em; padding-bottom: 0em;\">HierarchicTerm('location')<br>\n",
       "location of sepulka</p>"
      ],
      "text/plain": [
       "<IPython.core.display.HTML object>"
      ]
     },
     "metadata": {},
     "output_type": "display_data"
    },
    {
     "data": {
      "text/html": [
       "<p style=\"line-height: 1.1em; margin-top: 0em; margin-bottom: 0em; padding-top: 0em; padding-bottom: 0em;\">location has 5 attributes in meta-data:</p>"
      ],
      "text/plain": [
       "<IPython.core.display.HTML object>"
      ]
     },
     "metadata": {},
     "output_type": "display_data"
    },
    {
     "data": {
      "text/html": [
       "<table>\n",
       "<thead>\n",
       "<tr>\n",
       "<th>prefix</th>\n",
       "<th>defined</th>\n",
       "<th>key</th>\n",
       "<th>value</th>\n",
       "<th>actual_type</th>\n",
       "<th>expected_type</th>\n",
       "<th>default</th>\n",
       "</tr>\n",
       "</thead>\n",
       "<tbody>\n",
       "<tr>\n",
       "<td style=\"Auto\">None</td>\n",
       "<td style=\"Auto\">+</td>\n",
       "<td style=\"Auto\">name</td>\n",
       "<td style=\"Auto\">'location'</td>\n",
       "<td style=\"Auto\">str</td>\n",
       "<td style=\"Auto\">str</td>\n",
       "<td style=\"Auto\">-</td>\n",
       "</tr>\n",
       "<tr>\n",
       "<td style=\"Auto\">None</td>\n",
       "<td style=\"Auto\">+</td>\n",
       "<td style=\"Auto\">caption</td>\n",
       "<td style=\"Auto\">'location of sepulka'</td>\n",
       "<td style=\"Auto\">str</td>\n",
       "<td style=\"Auto\">str</td>\n",
       "<td style=\"Auto\">''</td>\n",
       "</tr>\n",
       "<tr>\n",
       "<td style=\"Auto\">None</td>\n",
       "<td style=\"Auto\">+</td>\n",
       "<td style=\"Auto\">levels</td>\n",
       "<td style=\"Auto\">[planet, region, sepulcarium, slot]</td>\n",
       "<td style=\"Auto\">list</td>\n",
       "<td style=\"Auto\">Union[base.classes.enum.DynamicEnum, Type, Callable, list, NoneType]</td>\n",
       "<td style=\"Auto\">-</td>\n",
       "</tr>\n",
       "<tr>\n",
       "<td style=\"Auto\">None</td>\n",
       "<td style=\"Auto\">+</td>\n",
       "<td style=\"Auto\">default_level</td>\n",
       "<td style=\"Auto\">slot</td>\n",
       "<td style=\"Auto\">ObjectTerm</td>\n",
       "<td style=\"Auto\">Union[content.terms.object_term.ObjectTerm, base.classes.enum.DynamicEnum, int, str, Type, base.classes.auto.Auto, NoneType]</td>\n",
       "<td style=\"Auto\">-</td>\n",
       "</tr>\n",
       "<tr>\n",
       "<td style=\"Auto\">None</td>\n",
       "<td style=\"Auto\">-</td>\n",
       "<td style=\"Auto\">ids_is_independent</td>\n",
       "<td style=\"Auto\">False</td>\n",
       "<td style=\"Auto\">bool</td>\n",
       "<td style=\"Auto\">bool</td>\n",
       "<td style=\"Auto\">False</td>\n",
       "</tr>\n",
       "</tbody>\n",
       "</table>"
      ],
      "text/plain": [
       "<IPython.core.display.HTML object>"
      ]
     },
     "metadata": {},
     "output_type": "display_data"
    },
    {
     "data": {
      "text/plain": [
       "location"
      ]
     },
     "execution_count": 12,
     "metadata": {},
     "output_type": "execute_result"
    }
   ],
   "source": [
    "LOCATION.describe()"
   ]
  },
  {
   "cell_type": "code",
   "execution_count": 13,
   "metadata": {},
   "outputs": [
    {
     "data": {
      "text/plain": [
       "planet"
      ]
     },
     "execution_count": 13,
     "metadata": {},
     "output_type": "execute_result"
    }
   ],
   "source": [
    "LOCATION.get_level_terms()[0]"
   ]
  },
  {
   "cell_type": "code",
   "execution_count": null,
   "metadata": {},
   "outputs": [],
   "source": []
  },
  {
   "cell_type": "code",
   "execution_count": null,
   "metadata": {},
   "outputs": [],
   "source": []
  },
  {
   "cell_type": "code",
   "execution_count": 14,
   "metadata": {},
   "outputs": [
    {
     "data": {
      "text/plain": [
       "slot_id: int"
      ]
     },
     "execution_count": 14,
     "metadata": {},
     "output_type": "execute_result"
    }
   ],
   "source": [
    "LOCATION.get_level_term(3).get_id_field()"
   ]
  },
  {
   "cell_type": "code",
   "execution_count": null,
   "metadata": {},
   "outputs": [],
   "source": []
  },
  {
   "cell_type": "code",
   "execution_count": 15,
   "metadata": {},
   "outputs": [
    {
     "data": {
      "text/plain": [
       "[planet, region, sepulcarium, slot]"
      ]
     },
     "execution_count": 15,
     "metadata": {},
     "output_type": "execute_result"
    }
   ],
   "source": [
    "LOCATION.get_level_terms()"
   ]
  },
  {
   "cell_type": "code",
   "execution_count": 16,
   "metadata": {},
   "outputs": [
    {
     "data": {
      "text/html": [
       "<h1>slot</h1>"
      ],
      "text/plain": [
       "<IPython.core.display.HTML object>"
      ]
     },
     "metadata": {},
     "output_type": "display_data"
    },
    {
     "data": {
      "text/html": [
       "<p style=\"line-height: 1.1em; margin-top: 0em; margin-bottom: 0em; padding-top: 0em; padding-bottom: 0em;\">ObjectTerm('slot')<br>\n",
       "location level 3 (location of sepulka)</p>"
      ],
      "text/plain": [
       "<IPython.core.display.HTML object>"
      ]
     },
     "metadata": {},
     "output_type": "display_data"
    },
    {
     "data": {
      "text/html": [
       "<p style=\"line-height: 1.1em; margin-top: 0em; margin-bottom: 0em; padding-top: 0em; padding-bottom: 0em;\">slot has 2 attributes in meta-data:</p>"
      ],
      "text/plain": [
       "<IPython.core.display.HTML object>"
      ]
     },
     "metadata": {},
     "output_type": "display_data"
    },
    {
     "data": {
      "text/html": [
       "<table>\n",
       "<thead>\n",
       "<tr>\n",
       "<th>prefix</th>\n",
       "<th>defined</th>\n",
       "<th>key</th>\n",
       "<th>value</th>\n",
       "<th>actual_type</th>\n",
       "<th>expected_type</th>\n",
       "<th>default</th>\n",
       "</tr>\n",
       "</thead>\n",
       "<tbody>\n",
       "<tr>\n",
       "<td style=\"Auto\">None</td>\n",
       "<td style=\"Auto\">+</td>\n",
       "<td style=\"Auto\">name</td>\n",
       "<td style=\"Auto\">'slot'</td>\n",
       "<td style=\"Auto\">str</td>\n",
       "<td style=\"Auto\">str</td>\n",
       "<td style=\"Auto\">-</td>\n",
       "</tr>\n",
       "<tr>\n",
       "<td style=\"Auto\">None</td>\n",
       "<td style=\"Auto\">+</td>\n",
       "<td style=\"Auto\">caption</td>\n",
       "<td style=\"Auto\">'location level 3 (location of sepulka)'</td>\n",
       "<td style=\"Auto\">str</td>\n",
       "<td style=\"Auto\">str</td>\n",
       "<td style=\"Auto\">''</td>\n",
       "</tr>\n",
       "</tbody>\n",
       "</table>"
      ],
      "text/plain": [
       "<IPython.core.display.HTML object>"
      ]
     },
     "metadata": {},
     "output_type": "display_data"
    },
    {
     "data": {
      "text/html": [
       "<h3>Fields</h3>"
      ],
      "text/plain": [
       "<IPython.core.display.HTML object>"
      ]
     },
     "metadata": {},
     "output_type": "display_data"
    },
    {
     "data": {
      "text/html": [
       "<table>\n",
       "<thead>\n",
       "<tr>\n",
       "<th>role</th>\n",
       "<th>name</th>\n",
       "<th>type</th>\n",
       "<th>caption</th>\n",
       "<th>repr</th>\n",
       "</tr>\n",
       "</thead>\n",
       "<tbody>\n",
       "<tr>\n",
       "<td style=\"Auto\">id</td>\n",
       "<td style=\"Auto\">slot_id</td>\n",
       "<td style=\"Auto\"><ValueType.Int: 'int'></td>\n",
       "<td style=\"Auto\">id of slot (location level 3 (location of sepulka))</td>\n",
       "<td style=\"Auto\">None</td>\n",
       "</tr>\n",
       "</tbody>\n",
       "</table>"
      ],
      "text/plain": [
       "<IPython.core.display.HTML object>"
      ]
     },
     "metadata": {},
     "output_type": "display_data"
    },
    {
     "data": {
      "text/plain": [
       "slot"
      ]
     },
     "execution_count": 16,
     "metadata": {},
     "output_type": "execute_result"
    }
   ],
   "source": [
    "LOCATION.get_level_term(3).describe()"
   ]
  },
  {
   "cell_type": "code",
   "execution_count": 17,
   "metadata": {},
   "outputs": [
    {
     "data": {
      "text/plain": [
       "0"
      ]
     },
     "execution_count": 17,
     "metadata": {},
     "output_type": "execute_result"
    }
   ],
   "source": [
    "LOCATION.get_depth(0)"
   ]
  },
  {
   "cell_type": "code",
   "execution_count": 18,
   "metadata": {},
   "outputs": [
    {
     "data": {
      "text/plain": [
       "sepulcarium_id: int"
      ]
     },
     "execution_count": 18,
     "metadata": {},
     "output_type": "execute_result"
    }
   ],
   "source": [
    "LOCATION.get_level_id_field(2)"
   ]
  },
  {
   "cell_type": "code",
   "execution_count": 19,
   "metadata": {},
   "outputs": [
    {
     "data": {
      "text/plain": [
       "location_key: str"
      ]
     },
     "execution_count": 19,
     "metadata": {},
     "output_type": "execute_result"
    }
   ],
   "source": [
    "LOCATION.get_key_field()"
   ]
  },
  {
   "cell_type": "code",
   "execution_count": 20,
   "metadata": {},
   "outputs": [
    {
     "data": {
      "text/plain": [
       "[planet_id: int, region_id: int, sepulcarium_id: int, slot_id: int]"
      ]
     },
     "execution_count": 20,
     "metadata": {},
     "output_type": "execute_result"
    }
   ],
   "source": [
    "LOCATION.get_id_fields()"
   ]
  },
  {
   "cell_type": "code",
   "execution_count": 21,
   "metadata": {},
   "outputs": [
    {
     "data": {
      "text/plain": [
       "(location_key: str,\n",
       " <function content.terms.hierarchic_term.HierarchicTerm.get_key_selection_tuple.<locals>.<lambda>(*a)>,\n",
       " planet_id: int,\n",
       " region_id: int,\n",
       " sepulcarium_id: int,\n",
       " slot_id: int)"
      ]
     },
     "execution_count": 21,
     "metadata": {},
     "output_type": "execute_result"
    }
   ],
   "source": [
    "LOCATION.get_key_selection_tuple(True)"
   ]
  },
  {
   "cell_type": "code",
   "execution_count": null,
   "metadata": {},
   "outputs": [],
   "source": []
  },
  {
   "cell_type": "code",
   "execution_count": 22,
   "metadata": {},
   "outputs": [
    {
     "data": {
      "text/html": [
       "<h1>location</h1>"
      ],
      "text/plain": [
       "<IPython.core.display.HTML object>"
      ]
     },
     "metadata": {},
     "output_type": "display_data"
    },
    {
     "data": {
      "text/html": [
       "<p style=\"line-height: 1.1em; margin-top: 0em; margin-bottom: 0em; padding-top: 0em; padding-bottom: 0em;\">HierarchicTerm('location')<br>\n",
       "location of sepulka</p>"
      ],
      "text/plain": [
       "<IPython.core.display.HTML object>"
      ]
     },
     "metadata": {},
     "output_type": "display_data"
    },
    {
     "data": {
      "text/html": [
       "<p style=\"line-height: 1.1em; margin-top: 0em; margin-bottom: 0em; padding-top: 0em; padding-bottom: 0em;\">location has 5 attributes in meta-data:</p>"
      ],
      "text/plain": [
       "<IPython.core.display.HTML object>"
      ]
     },
     "metadata": {},
     "output_type": "display_data"
    },
    {
     "data": {
      "text/html": [
       "<table>\n",
       "<thead>\n",
       "<tr>\n",
       "<th>prefix</th>\n",
       "<th>defined</th>\n",
       "<th>key</th>\n",
       "<th>value</th>\n",
       "<th>actual_type</th>\n",
       "<th>expected_type</th>\n",
       "<th>default</th>\n",
       "</tr>\n",
       "</thead>\n",
       "<tbody>\n",
       "<tr>\n",
       "<td style=\"Auto\">None</td>\n",
       "<td style=\"Auto\">+</td>\n",
       "<td style=\"Auto\">name</td>\n",
       "<td style=\"Auto\">'location'</td>\n",
       "<td style=\"Auto\">str</td>\n",
       "<td style=\"Auto\">str</td>\n",
       "<td style=\"Auto\">-</td>\n",
       "</tr>\n",
       "<tr>\n",
       "<td style=\"Auto\">None</td>\n",
       "<td style=\"Auto\">+</td>\n",
       "<td style=\"Auto\">caption</td>\n",
       "<td style=\"Auto\">'location of sepulka'</td>\n",
       "<td style=\"Auto\">str</td>\n",
       "<td style=\"Auto\">str</td>\n",
       "<td style=\"Auto\">''</td>\n",
       "</tr>\n",
       "<tr>\n",
       "<td style=\"Auto\">None</td>\n",
       "<td style=\"Auto\">+</td>\n",
       "<td style=\"Auto\">levels</td>\n",
       "<td style=\"Auto\">[planet, region, sepulcarium, slot]</td>\n",
       "<td style=\"Auto\">list</td>\n",
       "<td style=\"Auto\">Union[base.classes.enum.DynamicEnum, Type, Callable, list, NoneType]</td>\n",
       "<td style=\"Auto\">-</td>\n",
       "</tr>\n",
       "<tr>\n",
       "<td style=\"Auto\">None</td>\n",
       "<td style=\"Auto\">+</td>\n",
       "<td style=\"Auto\">default_level</td>\n",
       "<td style=\"Auto\">slot</td>\n",
       "<td style=\"Auto\">ObjectTerm</td>\n",
       "<td style=\"Auto\">Union[content.terms.object_term.ObjectTerm, base.classes.enum.DynamicEnum, int, str, Type, base.classes.auto.Auto, NoneType]</td>\n",
       "<td style=\"Auto\">-</td>\n",
       "</tr>\n",
       "<tr>\n",
       "<td style=\"Auto\">None</td>\n",
       "<td style=\"Auto\">-</td>\n",
       "<td style=\"Auto\">ids_is_independent</td>\n",
       "<td style=\"Auto\">False</td>\n",
       "<td style=\"Auto\">bool</td>\n",
       "<td style=\"Auto\">bool</td>\n",
       "<td style=\"Auto\">False</td>\n",
       "</tr>\n",
       "</tbody>\n",
       "</table>"
      ],
      "text/plain": [
       "<IPython.core.display.HTML object>"
      ]
     },
     "metadata": {},
     "output_type": "display_data"
    },
    {
     "data": {
      "text/html": [
       "<h3>Fields</h3>"
      ],
      "text/plain": [
       "<IPython.core.display.HTML object>"
      ]
     },
     "metadata": {},
     "output_type": "display_data"
    },
    {
     "data": {
      "text/html": [
       "<table>\n",
       "<thead>\n",
       "<tr>\n",
       "<th>role</th>\n",
       "<th>name</th>\n",
       "<th>type</th>\n",
       "<th>caption</th>\n",
       "<th>repr</th>\n",
       "</tr>\n",
       "</thead>\n",
       "<tbody>\n",
       "<tr>\n",
       "<td style=\"Auto\">key</td>\n",
       "<td style=\"Auto\">location_key</td>\n",
       "<td style=\"Auto\"><ValueType.Str: 'str'></td>\n",
       "<td style=\"Auto\">key of location (location of sepulka)</td>\n",
       "<td style=\"Auto\">None</td>\n",
       "</tr>\n",
       "</tbody>\n",
       "</table>"
      ],
      "text/plain": [
       "<IPython.core.display.HTML object>"
      ]
     },
     "metadata": {},
     "output_type": "display_data"
    },
    {
     "data": {
      "text/plain": [
       "location"
      ]
     },
     "execution_count": 22,
     "metadata": {},
     "output_type": "execute_result"
    }
   ],
   "source": [
    "LOCATION.describe()"
   ]
  },
  {
   "cell_type": "code",
   "execution_count": null,
   "metadata": {},
   "outputs": [],
   "source": []
  },
  {
   "cell_type": "code",
   "execution_count": null,
   "metadata": {},
   "outputs": [],
   "source": []
  },
  {
   "cell_type": "code",
   "execution_count": null,
   "metadata": {},
   "outputs": [],
   "source": []
  },
  {
   "cell_type": "code",
   "execution_count": 23,
   "metadata": {},
   "outputs": [
    {
     "name": "stdout",
     "output_type": "stream",
     "text": [
      "AnyField('sepulkarium_id', value_type=ValueType.Int, representation=None, caption='id of sepulkarium (establishments used for sepuling)', default_item_type=ItemType.Any, default_value=None, example_value=None, is_valid=Auto, skip_errors=False, logger=None, group_name='SEPULKA_MASTER', group_caption='')\n"
     ]
    }
   ],
   "source": [
    "print(SEPULKARIUM.get_id_field())"
   ]
  },
  {
   "cell_type": "code",
   "execution_count": 24,
   "metadata": {},
   "outputs": [
    {
     "data": {
      "text/html": [
       "<h1>sepulkarium_id</h1>"
      ],
      "text/plain": [
       "<IPython.core.display.HTML object>"
      ]
     },
     "metadata": {},
     "output_type": "display_data"
    },
    {
     "data": {
      "text/html": [
       "<p style=\"line-height: 1.1em; margin-top: 0em; margin-bottom: 0em; padding-top: 0em; padding-bottom: 0em;\">sepulkarium_id: int<br>\n",
       "&nbsp;&nbsp;&nbsp;&nbsp;name:&nbsp;&nbsp;&nbsp;&nbsp;&nbsp;&nbsp;sepulkarium_id<br>\n",
       "&nbsp;&nbsp;&nbsp;&nbsp;caption:&nbsp;&nbsp; id of sepulkarium (establishments used for sepuling)<br>\n",
       "&nbsp;&nbsp;&nbsp;&nbsp;meta:&nbsp;&nbsp;&nbsp;&nbsp;&nbsp;&nbsp;value_type=ValueType.Int, representation=None, default_value=None, example_value=None, default_item_type=<br>\n",
       "</p>"
      ],
      "text/plain": [
       "<IPython.core.display.HTML object>"
      ]
     },
     "metadata": {},
     "output_type": "display_data"
    },
    {
     "data": {
      "text/html": [
       "<p style=\"line-height: 1.1em; margin-top: 0em; margin-bottom: 0em; padding-top: 0em; padding-bottom: 0em;\">sepulkarium_id: int has 12 attributes in meta-data:</p>"
      ],
      "text/plain": [
       "<IPython.core.display.HTML object>"
      ]
     },
     "metadata": {},
     "output_type": "display_data"
    },
    {
     "data": {
      "text/html": [
       "<table>\n",
       "<thead>\n",
       "<tr>\n",
       "<th>prefix</th>\n",
       "<th>defined</th>\n",
       "<th>key</th>\n",
       "<th>value</th>\n",
       "<th>actual_type</th>\n",
       "<th>expected_type</th>\n",
       "<th>default</th>\n",
       "</tr>\n",
       "</thead>\n",
       "<tbody>\n",
       "<tr>\n",
       "<td style=\"Auto\">None</td>\n",
       "<td style=\"Auto\">+</td>\n",
       "<td style=\"Auto\">name</td>\n",
       "<td style=\"Auto\">'sepulkarium_id'</td>\n",
       "<td style=\"Auto\">str</td>\n",
       "<td style=\"Auto\">str</td>\n",
       "<td style=\"Auto\">-</td>\n",
       "</tr>\n",
       "<tr>\n",
       "<td style=\"Auto\">None</td>\n",
       "<td style=\"Auto\">+</td>\n",
       "<td style=\"Auto\">value_type</td>\n",
       "<td style=\"Auto\">ValueType.Int</td>\n",
       "<td style=\"Auto\">ValueType</td>\n",
       "<td style=\"Auto\">ValueType</td>\n",
       "<td style=\"Auto\">ValueType.Any</td>\n",
       "</tr>\n",
       "<tr>\n",
       "<td style=\"Auto\">None</td>\n",
       "<td style=\"Auto\">-</td>\n",
       "<td style=\"Auto\">representation</td>\n",
       "<td style=\"Auto\">-</td>\n",
       "<td style=\"Auto\">NoneType</td>\n",
       "<td style=\"Auto\">Union[content.representations.repr_interface.RepresentationInterface, str, NoneType]</td>\n",
       "<td style=\"Auto\">-</td>\n",
       "</tr>\n",
       "<tr>\n",
       "<td style=\"Auto\">None</td>\n",
       "<td style=\"Auto\">+</td>\n",
       "<td style=\"Auto\">caption</td>\n",
       "<td style=\"Auto\">'id of sepulkarium (establishments used for sepuling)'</td>\n",
       "<td style=\"Auto\">str</td>\n",
       "<td style=\"Auto\">str</td>\n",
       "<td style=\"Auto\">''</td>\n",
       "</tr>\n",
       "<tr>\n",
       "<td style=\"Auto\">None</td>\n",
       "<td style=\"Auto\">-</td>\n",
       "<td style=\"Auto\">default_item_type</td>\n",
       "<td style=\"Auto\">ItemType.Any</td>\n",
       "<td style=\"Auto\">ItemType</td>\n",
       "<td style=\"Auto\">ItemType</td>\n",
       "<td style=\"Auto\">ItemType.Any</td>\n",
       "</tr>\n",
       "<tr>\n",
       "<td style=\"Auto\">None</td>\n",
       "<td style=\"Auto\">-</td>\n",
       "<td style=\"Auto\">default_value</td>\n",
       "<td style=\"Auto\">-</td>\n",
       "<td style=\"Auto\">NoneType</td>\n",
       "<td style=\"Auto\">Any</td>\n",
       "<td style=\"Auto\">-</td>\n",
       "</tr>\n",
       "<tr>\n",
       "<td style=\"Auto\">None</td>\n",
       "<td style=\"Auto\">-</td>\n",
       "<td style=\"Auto\">example_value</td>\n",
       "<td style=\"Auto\">-</td>\n",
       "<td style=\"Auto\">NoneType</td>\n",
       "<td style=\"Auto\">Any</td>\n",
       "<td style=\"Auto\">-</td>\n",
       "</tr>\n",
       "<tr>\n",
       "<td style=\"Auto\">None</td>\n",
       "<td style=\"Auto\">-</td>\n",
       "<td style=\"Auto\">is_valid</td>\n",
       "<td style=\"Auto\">Auto</td>\n",
       "<td style=\"Auto\">Auto</td>\n",
       "<td style=\"Auto\">Union[base.classes.auto.Auto, bool]</td>\n",
       "<td style=\"Auto\">Auto</td>\n",
       "</tr>\n",
       "<tr>\n",
       "<td style=\"Auto\">None</td>\n",
       "<td style=\"Auto\">-</td>\n",
       "<td style=\"Auto\">skip_errors</td>\n",
       "<td style=\"Auto\">False</td>\n",
       "<td style=\"Auto\">bool</td>\n",
       "<td style=\"Auto\">bool</td>\n",
       "<td style=\"Auto\">False</td>\n",
       "</tr>\n",
       "<tr>\n",
       "<td style=\"Auto\">None</td>\n",
       "<td style=\"Auto\">-</td>\n",
       "<td style=\"Auto\">logger</td>\n",
       "<td style=\"Auto\">-</td>\n",
       "<td style=\"Auto\">NoneType</td>\n",
       "<td style=\"Auto\">Union[loggers.selection_logger_interface.SelectionLoggerInterface, NoneType]</td>\n",
       "<td style=\"Auto\">-</td>\n",
       "</tr>\n",
       "<tr>\n",
       "<td style=\"Auto\">None</td>\n",
       "<td style=\"Auto\">+</td>\n",
       "<td style=\"Auto\">group_name</td>\n",
       "<td style=\"Auto\">'SEPULKA_MASTER'</td>\n",
       "<td style=\"Auto\">str</td>\n",
       "<td style=\"Auto\">Union[str, NoneType]</td>\n",
       "<td style=\"Auto\">-</td>\n",
       "</tr>\n",
       "<tr>\n",
       "<td style=\"Auto\">None</td>\n",
       "<td style=\"Auto\">x</td>\n",
       "<td style=\"Auto\">group_caption</td>\n",
       "<td style=\"Auto\">''</td>\n",
       "<td style=\"Auto\">str</td>\n",
       "<td style=\"Auto\">Union[str, NoneType]</td>\n",
       "<td style=\"Auto\">-</td>\n",
       "</tr>\n",
       "</tbody>\n",
       "</table>"
      ],
      "text/plain": [
       "<IPython.core.display.HTML object>"
      ]
     },
     "metadata": {},
     "output_type": "display_data"
    },
    {
     "data": {
      "text/plain": [
       "sepulkarium_id: int"
      ]
     },
     "execution_count": 24,
     "metadata": {},
     "output_type": "execute_result"
    }
   ],
   "source": [
    "SEPULKARIUM.get_id_field().describe()"
   ]
  },
  {
   "cell_type": "code",
   "execution_count": null,
   "metadata": {},
   "outputs": [],
   "source": []
  },
  {
   "cell_type": "code",
   "execution_count": null,
   "metadata": {},
   "outputs": [],
   "source": []
  },
  {
   "cell_type": "code",
   "execution_count": 25,
   "metadata": {},
   "outputs": [],
   "source": [
    "struct_sepulka_state = struct(\n",
    "    SEPULKA.get_id_field(),\n",
    "#     SEPULKARIUM.get_id_field(),\n",
    "    SEPULING.get_share_field(),\n",
    "    name='SEPULKARIUM_STATE',\n",
    "    caption='current state of sepuling process',\n",
    ")"
   ]
  },
  {
   "cell_type": "code",
   "execution_count": 26,
   "metadata": {},
   "outputs": [
    {
     "data": {
      "text/plain": [
       "sepulka_id: int, sepuling_share: float"
      ]
     },
     "execution_count": 26,
     "metadata": {},
     "output_type": "execute_result"
    }
   ],
   "source": [
    "struct_sepulka_state"
   ]
  },
  {
   "cell_type": "code",
   "execution_count": 27,
   "metadata": {},
   "outputs": [
    {
     "data": {
      "text/html": [
       "<h1>SEPULKARIUM_STATE</h1>"
      ],
      "text/plain": [
       "<IPython.core.display.HTML object>"
      ]
     },
     "metadata": {},
     "output_type": "display_data"
    },
    {
     "data": {
      "text/html": [
       "<p style=\"line-height: 1.1em; margin-top: 0em; margin-bottom: 0em; padding-top: 0em; padding-bottom: 0em;\">FlatStruct('SEPULKARIUM_STATE', caption='')</p>"
      ],
      "text/plain": [
       "<IPython.core.display.HTML object>"
      ]
     },
     "metadata": {},
     "output_type": "display_data"
    },
    {
     "data": {
      "text/html": [
       "<p style=\"line-height: 1.1em; margin-top: 0em; margin-bottom: 0em; padding-top: 0em; padding-bottom: 0em;\">sepulka_id: int, sepuling_share: float has 2 attributes in meta-data:</p>"
      ],
      "text/plain": [
       "<IPython.core.display.HTML object>"
      ]
     },
     "metadata": {},
     "output_type": "display_data"
    },
    {
     "data": {
      "text/html": [
       "<table>\n",
       "<thead>\n",
       "<tr>\n",
       "<th>prefix</th>\n",
       "<th>defined</th>\n",
       "<th>key</th>\n",
       "<th>value</th>\n",
       "<th>actual_type</th>\n",
       "<th>expected_type</th>\n",
       "<th>default</th>\n",
       "</tr>\n",
       "</thead>\n",
       "<tbody>\n",
       "<tr>\n",
       "<td style=\"Auto\">None</td>\n",
       "<td style=\"Auto\">+</td>\n",
       "<td style=\"Auto\">name</td>\n",
       "<td style=\"Auto\">'SEPULKARIUM_STATE'</td>\n",
       "<td style=\"Auto\">str</td>\n",
       "<td style=\"Auto\">Union[int, str, NoneType]</td>\n",
       "<td style=\"Auto\">-</td>\n",
       "</tr>\n",
       "<tr>\n",
       "<td style=\"Auto\">None</td>\n",
       "<td style=\"Auto\">x</td>\n",
       "<td style=\"Auto\">caption</td>\n",
       "<td style=\"Auto\">''</td>\n",
       "<td style=\"Auto\">str</td>\n",
       "<td style=\"Auto\">Union[str, NoneType]</td>\n",
       "<td style=\"Auto\">-</td>\n",
       "</tr>\n",
       "</tbody>\n",
       "</table>"
      ],
      "text/plain": [
       "<IPython.core.display.HTML object>"
      ]
     },
     "metadata": {},
     "output_type": "display_data"
    },
    {
     "data": {
      "text/html": [
       "<h3>Columns</h3>"
      ],
      "text/plain": [
       "<IPython.core.display.HTML object>"
      ]
     },
     "metadata": {},
     "output_type": "display_data"
    },
    {
     "data": {
      "text/html": [
       "<table>\n",
       "<thead>\n",
       "<tr>\n",
       "<th>valid</th>\n",
       "<th>n</th>\n",
       "<th>type</th>\n",
       "<th>name</th>\n",
       "<th>caption</th>\n",
       "</tr>\n",
       "</thead>\n",
       "<tbody>\n",
       "<tr>\n",
       "<td style=\"Auto\">~</td>\n",
       "<td style=\"Auto\">0</td>\n",
       "<td style=\"Auto\">None</td>\n",
       "<td style=\"Auto\">sepulka_id</td>\n",
       "<td style=\"Auto\">id of sepulka (a prominent element of the civilization of Ardrites from the planet of Enteropia)</td>\n",
       "</tr>\n",
       "<tr>\n",
       "<td style=\"Auto\">~</td>\n",
       "<td style=\"Auto\">1</td>\n",
       "<td style=\"Auto\">None</td>\n",
       "<td style=\"Auto\">sepuling_share</td>\n",
       "<td style=\"Auto\">share of sepuling (an activity of Ardrites from the planet of Enteropia)</td>\n",
       "</tr>\n",
       "</tbody>\n",
       "</table>"
      ],
      "text/plain": [
       "<IPython.core.display.HTML object>"
      ]
     },
     "metadata": {},
     "output_type": "display_data"
    },
    {
     "data": {
      "text/plain": [
       "sepulka_id: int, sepuling_share: float"
      ]
     },
     "execution_count": 27,
     "metadata": {},
     "output_type": "execute_result"
    }
   ],
   "source": [
    "struct_sepulka_state.describe()"
   ]
  },
  {
   "cell_type": "code",
   "execution_count": null,
   "metadata": {},
   "outputs": [],
   "source": []
  },
  {
   "cell_type": "code",
   "execution_count": 28,
   "metadata": {},
   "outputs": [],
   "source": [
    "struct_sepulkarium_state = struct(\n",
    "    SEPULKARIUM.get_id_field(),\n",
    "    SEPULKARIUM.get_name_field(),\n",
    "    SEPULING.get_share_field(),\n",
    "    SEPULKA.get_count_field(),\n",
    "    name='SEPULKARIUM_STATE',\n",
    "    caption='current state of sepuling process',\n",
    ")"
   ]
  },
  {
   "cell_type": "code",
   "execution_count": 29,
   "metadata": {},
   "outputs": [
    {
     "data": {
      "text/html": [
       "<h1>SEPULKARIUM_STATE</h1>"
      ],
      "text/plain": [
       "<IPython.core.display.HTML object>"
      ]
     },
     "metadata": {},
     "output_type": "display_data"
    },
    {
     "data": {
      "text/html": [
       "<p style=\"line-height: 1.1em; margin-top: 0em; margin-bottom: 0em; padding-top: 0em; padding-bottom: 0em;\">FlatStruct('SEPULKARIUM_STATE', caption='')</p>"
      ],
      "text/plain": [
       "<IPython.core.display.HTML object>"
      ]
     },
     "metadata": {},
     "output_type": "display_data"
    },
    {
     "data": {
      "text/html": [
       "<p style=\"line-height: 1.1em; margin-top: 0em; margin-bottom: 0em; padding-top: 0em; padding-bottom: 0em;\">sepulkarium_id: int, sepulkarium_name: str, sepuling_share: float, sepulka_count: int has 2 attributes in meta-data:</p>"
      ],
      "text/plain": [
       "<IPython.core.display.HTML object>"
      ]
     },
     "metadata": {},
     "output_type": "display_data"
    },
    {
     "data": {
      "text/html": [
       "<table>\n",
       "<thead>\n",
       "<tr>\n",
       "<th>prefix</th>\n",
       "<th>defined</th>\n",
       "<th>key</th>\n",
       "<th>value</th>\n",
       "<th>actual_type</th>\n",
       "<th>expected_type</th>\n",
       "<th>default</th>\n",
       "</tr>\n",
       "</thead>\n",
       "<tbody>\n",
       "<tr>\n",
       "<td style=\"Auto\">None</td>\n",
       "<td style=\"Auto\">+</td>\n",
       "<td style=\"Auto\">name</td>\n",
       "<td style=\"Auto\">'SEPULKARIUM_STATE'</td>\n",
       "<td style=\"Auto\">str</td>\n",
       "<td style=\"Auto\">Union[int, str, NoneType]</td>\n",
       "<td style=\"Auto\">-</td>\n",
       "</tr>\n",
       "<tr>\n",
       "<td style=\"Auto\">None</td>\n",
       "<td style=\"Auto\">x</td>\n",
       "<td style=\"Auto\">caption</td>\n",
       "<td style=\"Auto\">''</td>\n",
       "<td style=\"Auto\">str</td>\n",
       "<td style=\"Auto\">Union[str, NoneType]</td>\n",
       "<td style=\"Auto\">-</td>\n",
       "</tr>\n",
       "</tbody>\n",
       "</table>"
      ],
      "text/plain": [
       "<IPython.core.display.HTML object>"
      ]
     },
     "metadata": {},
     "output_type": "display_data"
    },
    {
     "data": {
      "text/html": [
       "<h3>Columns</h3>"
      ],
      "text/plain": [
       "<IPython.core.display.HTML object>"
      ]
     },
     "metadata": {},
     "output_type": "display_data"
    },
    {
     "data": {
      "text/html": [
       "<table>\n",
       "<thead>\n",
       "<tr>\n",
       "<th>valid</th>\n",
       "<th>n</th>\n",
       "<th>type</th>\n",
       "<th>name</th>\n",
       "<th>caption</th>\n",
       "</tr>\n",
       "</thead>\n",
       "<tbody>\n",
       "<tr>\n",
       "<td style=\"Auto\">~</td>\n",
       "<td style=\"Auto\">0</td>\n",
       "<td style=\"Auto\">None</td>\n",
       "<td style=\"Auto\">sepulkarium_id</td>\n",
       "<td style=\"Auto\">id of sepulkarium (establishments used for sepuling)</td>\n",
       "</tr>\n",
       "<tr>\n",
       "<td style=\"Auto\">~</td>\n",
       "<td style=\"Auto\">1</td>\n",
       "<td style=\"Auto\">None</td>\n",
       "<td style=\"Auto\">sepulkarium_name</td>\n",
       "<td style=\"Auto\">name of sepulkarium (establishments used for sepuling)</td>\n",
       "</tr>\n",
       "<tr>\n",
       "<td style=\"Auto\">~</td>\n",
       "<td style=\"Auto\">2</td>\n",
       "<td style=\"Auto\">None</td>\n",
       "<td style=\"Auto\">sepuling_share</td>\n",
       "<td style=\"Auto\">share of sepuling (an activity of Ardrites from the planet of Enteropia)</td>\n",
       "</tr>\n",
       "<tr>\n",
       "<td style=\"Auto\">~</td>\n",
       "<td style=\"Auto\">3</td>\n",
       "<td style=\"Auto\">None</td>\n",
       "<td style=\"Auto\">sepulka_count</td>\n",
       "<td style=\"Auto\">count of sepulka (a prominent element of the civilization of Ardrites from the planet of Enteropia)</td>\n",
       "</tr>\n",
       "</tbody>\n",
       "</table>"
      ],
      "text/plain": [
       "<IPython.core.display.HTML object>"
      ]
     },
     "metadata": {},
     "output_type": "display_data"
    },
    {
     "data": {
      "text/plain": [
       "sepulkarium_id: int, sepulkarium_name: str, sepuling_share: float, sepulka_count: int"
      ]
     },
     "execution_count": 29,
     "metadata": {},
     "output_type": "execute_result"
    }
   ],
   "source": [
    "struct_sepulkarium_state.describe()"
   ]
  },
  {
   "cell_type": "code",
   "execution_count": null,
   "metadata": {},
   "outputs": [],
   "source": []
  },
  {
   "cell_type": "code",
   "execution_count": 30,
   "metadata": {},
   "outputs": [],
   "source": [
    "tsv_sepulka_state = cx.get_job_folder().folder('test_tmp').file(\n",
    "    'sepulka_state.tsv',\n",
    "    struct=struct_sepulka_state,\n",
    "    caption=struct_sepulka_state.get_caption(),\n",
    ")"
   ]
  },
  {
   "cell_type": "code",
   "execution_count": 31,
   "metadata": {},
   "outputs": [
    {
     "data": {
      "text/html": [
       "<h1>sepulka_state.tsv</h1>"
      ],
      "text/plain": [
       "<IPython.core.display.HTML object>"
      ]
     },
     "metadata": {},
     "output_type": "display_data"
    },
    {
     "data": {
      "text/html": [
       "<p style=\"line-height: 1.1em; margin-top: 0em; margin-bottom: 0em; padding-top: 0em; padding-bottom: 0em;\">LocalFile('sepulka_state.tsv') expected</p>"
      ],
      "text/plain": [
       "<IPython.core.display.HTML object>"
      ]
     },
     "metadata": {},
     "output_type": "display_data"
    },
    {
     "name": "stdout",
     "output_type": "stream",
     "text": [
      "local_file.py:124: Counting lines in sepulka_state.tsv...                                                               \r",
      "actualize_mixin.py:123: Detected 6 lines in sepulka_state.tsv.                                                          \r",
      "streamable_mixin.py:102: 6 lines expected from file sepulka_state.tsv...                                                \r",
      "Reading sepulka_state.tsv (6 items): starting...                                                                        \r",
      "23:42+00:00'00=23:42 Reading sepulka_state.tsv: UNK (5/4), 0 err (None it/sec)                                          \r",
      "23:42+00:00'00=23:42 Reading sepulka_state.tsv: Done. 5 items processed (None it/sec)                                   \n"
     ]
    },
    {
     "data": {
      "text/html": [
       "<p style=\"line-height: 1.1em; margin-top: 0em; margin-bottom: 0em; padding-top: 0em; padding-bottom: 0em;\">2022-05-22 23:42 file has 6 rows, 2 valid columns:</p>"
      ],
      "text/plain": [
       "<IPython.core.display.HTML object>"
      ]
     },
     "metadata": {},
     "output_type": "display_data"
    },
    {
     "data": {
      "text/html": [
       "<p style=\"line-height: 1.1em; margin-top: 0em; margin-bottom: 0em; padding-top: 0em; padding-bottom: 0em;\">Example without any filters:</p>"
      ],
      "text/plain": [
       "<IPython.core.display.HTML object>"
      ]
     },
     "metadata": {},
     "output_type": "display_data"
    },
    {
     "data": {
      "text/html": [
       "<h3>Columns</h3>"
      ],
      "text/plain": [
       "<IPython.core.display.HTML object>"
      ]
     },
     "metadata": {},
     "output_type": "display_data"
    },
    {
     "data": {
      "text/html": [
       "<table>\n",
       "<thead>\n",
       "<tr>\n",
       "<th>valid</th>\n",
       "<th>n</th>\n",
       "<th>type</th>\n",
       "<th>name</th>\n",
       "<th>example</th>\n",
       "<th>caption</th>\n",
       "</tr>\n",
       "</thead>\n",
       "<tbody>\n",
       "<tr>\n",
       "<td style=\"Auto\">-</td>\n",
       "<td style=\"Auto\">0</td>\n",
       "<td style=\"Auto\">None</td>\n",
       "<td style=\"Auto\">sepulka_id</td>\n",
       "<td style=\"Auto\">1</td>\n",
       "<td style=\"Auto\">id of sepulka (a prominent element of the civilization of Ardrites from the planet of Enteropia)</td>\n",
       "</tr>\n",
       "<tr>\n",
       "<td style=\"Auto\">-</td>\n",
       "<td style=\"Auto\">1</td>\n",
       "<td style=\"Auto\">None</td>\n",
       "<td style=\"Auto\">sepuling_share</td>\n",
       "<td style=\"Auto\">0.9</td>\n",
       "<td style=\"Auto\">share of sepuling (an activity of Ardrites from the planet of Enteropia)</td>\n",
       "</tr>\n",
       "</tbody>\n",
       "</table>"
      ],
      "text/plain": [
       "<IPython.core.display.HTML object>"
      ]
     },
     "metadata": {},
     "output_type": "display_data"
    },
    {
     "data": {
      "text/plain": [
       "sepulka_id: int, sepuling_share: float"
      ]
     },
     "execution_count": 31,
     "metadata": {},
     "output_type": "execute_result"
    }
   ],
   "source": [
    "tsv_sepulka_state.describe()"
   ]
  },
  {
   "cell_type": "code",
   "execution_count": 32,
   "metadata": {},
   "outputs": [
    {
     "name": "stdout",
     "output_type": "stream",
     "text": [
      "local_file.py:380: Done. 6 rows has written into sepulka_state.tsv                                                      \n"
     ]
    },
    {
     "data": {
      "text/plain": [
       "LocalFile('sepulka_state.tsv')"
      ]
     },
     "execution_count": 32,
     "metadata": {},
     "output_type": "execute_result"
    }
   ],
   "source": [
    "tsv_sepulka_state.write_stream(\n",
    "    cx.sm.RowStream(\n",
    "        [\n",
    "            (1, 0.9),\n",
    "            (2, 0.8),\n",
    "            (3, 0.7),\n",
    "            (4, 0.6),\n",
    "            (5, 0.5),\n",
    "        ]\n",
    "    )\n",
    ")"
   ]
  },
  {
   "cell_type": "code",
   "execution_count": 33,
   "metadata": {},
   "outputs": [
    {
     "data": {
      "text/html": [
       "<h1>sepulka_state.tsv</h1>"
      ],
      "text/plain": [
       "<IPython.core.display.HTML object>"
      ]
     },
     "metadata": {},
     "output_type": "display_data"
    },
    {
     "data": {
      "text/html": [
       "<p style=\"line-height: 1.1em; margin-top: 0em; margin-bottom: 0em; padding-top: 0em; padding-bottom: 0em;\">LocalFile('sepulka_state.tsv') expected</p>"
      ],
      "text/plain": [
       "<IPython.core.display.HTML object>"
      ]
     },
     "metadata": {},
     "output_type": "display_data"
    },
    {
     "name": "stdout",
     "output_type": "stream",
     "text": [
      "streamable_mixin.py:102: 6 lines expected from file sepulka_state.tsv...                                                \r",
      "Reading sepulka_state.tsv (6 items): starting...                                                                        \r",
      "23:42+00:00'00=23:42 Reading sepulka_state.tsv: UNK (5/4), 0 err (4004 it/sec)                                          \r",
      "23:42+00:00'00=23:42 Reading sepulka_state.tsv: Done. 5 items processed (4004 it/sec)                                   \n"
     ]
    },
    {
     "data": {
      "text/html": [
       "<p style=\"line-height: 1.1em; margin-top: 0em; margin-bottom: 0em; padding-top: 0em; padding-bottom: 0em;\">2022-05-22 23:42 file has 6 rows, 2 valid columns:</p>"
      ],
      "text/plain": [
       "<IPython.core.display.HTML object>"
      ]
     },
     "metadata": {},
     "output_type": "display_data"
    },
    {
     "data": {
      "text/html": [
       "<p style=\"line-height: 1.1em; margin-top: 0em; margin-bottom: 0em; padding-top: 0em; padding-bottom: 0em;\">Example without any filters:</p>"
      ],
      "text/plain": [
       "<IPython.core.display.HTML object>"
      ]
     },
     "metadata": {},
     "output_type": "display_data"
    },
    {
     "data": {
      "text/html": [
       "<h3>Columns</h3>"
      ],
      "text/plain": [
       "<IPython.core.display.HTML object>"
      ]
     },
     "metadata": {},
     "output_type": "display_data"
    },
    {
     "data": {
      "text/html": [
       "<table>\n",
       "<thead>\n",
       "<tr>\n",
       "<th>valid</th>\n",
       "<th>n</th>\n",
       "<th>type</th>\n",
       "<th>name</th>\n",
       "<th>example</th>\n",
       "<th>caption</th>\n",
       "</tr>\n",
       "</thead>\n",
       "<tbody>\n",
       "<tr>\n",
       "<td style=\"Auto\">-</td>\n",
       "<td style=\"Auto\">0</td>\n",
       "<td style=\"Auto\">None</td>\n",
       "<td style=\"Auto\">sepulka_id</td>\n",
       "<td style=\"Auto\">1</td>\n",
       "<td style=\"Auto\">id of sepulka (a prominent element of the civilization of Ardrites from the planet of Enteropia)</td>\n",
       "</tr>\n",
       "<tr>\n",
       "<td style=\"Auto\">-</td>\n",
       "<td style=\"Auto\">1</td>\n",
       "<td style=\"Auto\">None</td>\n",
       "<td style=\"Auto\">sepuling_share</td>\n",
       "<td style=\"Auto\">0.9</td>\n",
       "<td style=\"Auto\">share of sepuling (an activity of Ardrites from the planet of Enteropia)</td>\n",
       "</tr>\n",
       "</tbody>\n",
       "</table>"
      ],
      "text/plain": [
       "<IPython.core.display.HTML object>"
      ]
     },
     "metadata": {},
     "output_type": "display_data"
    },
    {
     "data": {
      "text/plain": [
       "sepulka_id: int, sepuling_share: float"
      ]
     },
     "execution_count": 33,
     "metadata": {},
     "output_type": "execute_result"
    }
   ],
   "source": [
    "tsv_sepulka_state.describe()"
   ]
  },
  {
   "cell_type": "code",
   "execution_count": null,
   "metadata": {},
   "outputs": [],
   "source": []
  },
  {
   "cell_type": "code",
   "execution_count": 34,
   "metadata": {},
   "outputs": [],
   "source": [
    "struct_sepulka_master = struct(\n",
    "    SEPULKA.get_id_field(),\n",
    "    SEPULKA.get_name_field(),\n",
    "    SEPULKARIUM.get_id_field(),\n",
    "    name='SEPULKA_MASTER',\n",
    "    caption='sepulkas master-data',\n",
    ")"
   ]
  },
  {
   "cell_type": "code",
   "execution_count": 35,
   "metadata": {},
   "outputs": [],
   "source": [
    "tsv_sepulka_master = cx.get_job_folder().folder('test_tmp').file(\n",
    "    'sepulka_master.tsv',\n",
    "    struct=struct_sepulka_master,\n",
    "    caption=struct_sepulka_master.get_caption(),\n",
    ")"
   ]
  },
  {
   "cell_type": "code",
   "execution_count": 36,
   "metadata": {},
   "outputs": [
    {
     "data": {
      "text/html": [
       "<h1>sepulka_master.tsv</h1>"
      ],
      "text/plain": [
       "<IPython.core.display.HTML object>"
      ]
     },
     "metadata": {},
     "output_type": "display_data"
    },
    {
     "data": {
      "text/html": [
       "<p style=\"line-height: 1.1em; margin-top: 0em; margin-bottom: 0em; padding-top: 0em; padding-bottom: 0em;\">LocalFile('sepulka_master.tsv') expected</p>"
      ],
      "text/plain": [
       "<IPython.core.display.HTML object>"
      ]
     },
     "metadata": {},
     "output_type": "display_data"
    },
    {
     "name": "stdout",
     "output_type": "stream",
     "text": [
      "local_file.py:124: Counting lines in sepulka_master.tsv...                                                              \r",
      "actualize_mixin.py:123: Detected 6 lines in sepulka_master.tsv.                                                         \r",
      "streamable_mixin.py:102: 6 lines expected from file sepulka_master.tsv...                                               \r",
      "Reading sepulka_master.tsv (6 items): starting...                                                                       \r",
      "23:42+00:00'00=23:42 Reading sepulka_master.tsv: UNK (5/4), 0 err (7326 it/sec)                                         \r",
      "23:42+00:00'00=23:42 Reading sepulka_master.tsv: Done. 5 items processed (7326 it/sec)                                  \n"
     ]
    },
    {
     "data": {
      "text/html": [
       "<p style=\"line-height: 1.1em; margin-top: 0em; margin-bottom: 0em; padding-top: 0em; padding-bottom: 0em;\">2022-05-22 23:42 file has 6 rows, 3 valid columns:</p>"
      ],
      "text/plain": [
       "<IPython.core.display.HTML object>"
      ]
     },
     "metadata": {},
     "output_type": "display_data"
    },
    {
     "data": {
      "text/html": [
       "<p style=\"line-height: 1.1em; margin-top: 0em; margin-bottom: 0em; padding-top: 0em; padding-bottom: 0em;\">Example without any filters:</p>"
      ],
      "text/plain": [
       "<IPython.core.display.HTML object>"
      ]
     },
     "metadata": {},
     "output_type": "display_data"
    },
    {
     "data": {
      "text/html": [
       "<h3>Columns</h3>"
      ],
      "text/plain": [
       "<IPython.core.display.HTML object>"
      ]
     },
     "metadata": {},
     "output_type": "display_data"
    },
    {
     "data": {
      "text/html": [
       "<table>\n",
       "<thead>\n",
       "<tr>\n",
       "<th>valid</th>\n",
       "<th>n</th>\n",
       "<th>type</th>\n",
       "<th>name</th>\n",
       "<th>example</th>\n",
       "<th>caption</th>\n",
       "</tr>\n",
       "</thead>\n",
       "<tbody>\n",
       "<tr>\n",
       "<td style=\"Auto\">-</td>\n",
       "<td style=\"Auto\">0</td>\n",
       "<td style=\"Auto\">None</td>\n",
       "<td style=\"Auto\">sepulka_id</td>\n",
       "<td style=\"Auto\">1</td>\n",
       "<td style=\"Auto\">id of sepulka (a prominent element of the civilization of Ardrites from the planet of Enteropia)</td>\n",
       "</tr>\n",
       "<tr>\n",
       "<td style=\"Auto\">-</td>\n",
       "<td style=\"Auto\">1</td>\n",
       "<td style=\"Auto\">None</td>\n",
       "<td style=\"Auto\">sepulka_name</td>\n",
       "<td style=\"Auto\">sepulka_01</td>\n",
       "<td style=\"Auto\">name of sepulka (a prominent element of the civilization of Ardrites from the planet of Enteropia)</td>\n",
       "</tr>\n",
       "<tr>\n",
       "<td style=\"Auto\">-</td>\n",
       "<td style=\"Auto\">2</td>\n",
       "<td style=\"Auto\">None</td>\n",
       "<td style=\"Auto\">sepulkarium_id</td>\n",
       "<td style=\"Auto\">10</td>\n",
       "<td style=\"Auto\">id of sepulkarium (establishments used for sepuling)</td>\n",
       "</tr>\n",
       "</tbody>\n",
       "</table>"
      ],
      "text/plain": [
       "<IPython.core.display.HTML object>"
      ]
     },
     "metadata": {},
     "output_type": "display_data"
    },
    {
     "data": {
      "text/plain": [
       "sepulka_id: int, sepulka_name: str, sepulkarium_id: int"
      ]
     },
     "execution_count": 36,
     "metadata": {},
     "output_type": "execute_result"
    }
   ],
   "source": [
    "tsv_sepulka_master.describe()"
   ]
  },
  {
   "cell_type": "code",
   "execution_count": 37,
   "metadata": {},
   "outputs": [
    {
     "name": "stdout",
     "output_type": "stream",
     "text": [
      "local_file.py:380: Done. 6 rows has written into sepulka_master.tsv                                                     \n"
     ]
    },
    {
     "data": {
      "text/plain": [
       "LocalFile('sepulka_master.tsv')"
      ]
     },
     "execution_count": 37,
     "metadata": {},
     "output_type": "execute_result"
    }
   ],
   "source": [
    "tsv_sepulka_master.write_stream(  # ToDo: add write_rows() method \n",
    "    cx.sm.RowStream(\n",
    "        [\n",
    "            (1, 'sepulka_01', 10),\n",
    "            (2, 'sepulka_02', 20),\n",
    "            (3, 'sepulka_03', 10),\n",
    "            (4, 'sepulka_04', 20),\n",
    "            (5, 'sepulka_05', 10),\n",
    "        ]\n",
    "    )\n",
    ")"
   ]
  },
  {
   "cell_type": "code",
   "execution_count": 38,
   "metadata": {},
   "outputs": [
    {
     "data": {
      "text/html": [
       "<h1>sepulka_master.tsv</h1>"
      ],
      "text/plain": [
       "<IPython.core.display.HTML object>"
      ]
     },
     "metadata": {},
     "output_type": "display_data"
    },
    {
     "data": {
      "text/html": [
       "<p style=\"line-height: 1.1em; margin-top: 0em; margin-bottom: 0em; padding-top: 0em; padding-bottom: 0em;\">LocalFile('sepulka_master.tsv') expected</p>"
      ],
      "text/plain": [
       "<IPython.core.display.HTML object>"
      ]
     },
     "metadata": {},
     "output_type": "display_data"
    },
    {
     "name": "stdout",
     "output_type": "stream",
     "text": [
      "streamable_mixin.py:102: 6 lines expected from file sepulka_master.tsv...                                               \r",
      "Reading sepulka_master.tsv (6 items): starting...                                                                       \r",
      "23:43+00:00'00=23:43 Reading sepulka_master.tsv: UNK (5/4), 0 err (3996 it/sec)                                         \r",
      "23:43+00:00'00=23:43 Reading sepulka_master.tsv: Done. 5 items processed (3996 it/sec)                                  \n"
     ]
    },
    {
     "data": {
      "text/html": [
       "<p style=\"line-height: 1.1em; margin-top: 0em; margin-bottom: 0em; padding-top: 0em; padding-bottom: 0em;\">2022-05-22 23:43 file has 6 rows, 3 valid columns:</p>"
      ],
      "text/plain": [
       "<IPython.core.display.HTML object>"
      ]
     },
     "metadata": {},
     "output_type": "display_data"
    },
    {
     "data": {
      "text/html": [
       "<p style=\"line-height: 1.1em; margin-top: 0em; margin-bottom: 0em; padding-top: 0em; padding-bottom: 0em;\">Example without any filters:</p>"
      ],
      "text/plain": [
       "<IPython.core.display.HTML object>"
      ]
     },
     "metadata": {},
     "output_type": "display_data"
    },
    {
     "data": {
      "text/html": [
       "<h3>Columns</h3>"
      ],
      "text/plain": [
       "<IPython.core.display.HTML object>"
      ]
     },
     "metadata": {},
     "output_type": "display_data"
    },
    {
     "data": {
      "text/html": [
       "<table>\n",
       "<thead>\n",
       "<tr>\n",
       "<th>valid</th>\n",
       "<th>n</th>\n",
       "<th>type</th>\n",
       "<th>name</th>\n",
       "<th>example</th>\n",
       "<th>caption</th>\n",
       "</tr>\n",
       "</thead>\n",
       "<tbody>\n",
       "<tr>\n",
       "<td style=\"Auto\">-</td>\n",
       "<td style=\"Auto\">0</td>\n",
       "<td style=\"Auto\">None</td>\n",
       "<td style=\"Auto\">sepulka_id</td>\n",
       "<td style=\"Auto\">1</td>\n",
       "<td style=\"Auto\">id of sepulka (a prominent element of the civilization of Ardrites from the planet of Enteropia)</td>\n",
       "</tr>\n",
       "<tr>\n",
       "<td style=\"Auto\">-</td>\n",
       "<td style=\"Auto\">1</td>\n",
       "<td style=\"Auto\">None</td>\n",
       "<td style=\"Auto\">sepulka_name</td>\n",
       "<td style=\"Auto\">sepulka_01</td>\n",
       "<td style=\"Auto\">name of sepulka (a prominent element of the civilization of Ardrites from the planet of Enteropia)</td>\n",
       "</tr>\n",
       "<tr>\n",
       "<td style=\"Auto\">-</td>\n",
       "<td style=\"Auto\">2</td>\n",
       "<td style=\"Auto\">None</td>\n",
       "<td style=\"Auto\">sepulkarium_id</td>\n",
       "<td style=\"Auto\">10</td>\n",
       "<td style=\"Auto\">id of sepulkarium (establishments used for sepuling)</td>\n",
       "</tr>\n",
       "</tbody>\n",
       "</table>"
      ],
      "text/plain": [
       "<IPython.core.display.HTML object>"
      ]
     },
     "metadata": {},
     "output_type": "display_data"
    },
    {
     "data": {
      "text/plain": [
       "sepulka_id: int, sepulka_name: str, sepulkarium_id: int"
      ]
     },
     "execution_count": 38,
     "metadata": {},
     "output_type": "execute_result"
    }
   ],
   "source": [
    "tsv_sepulka_master.describe()"
   ]
  },
  {
   "cell_type": "code",
   "execution_count": 39,
   "metadata": {},
   "outputs": [],
   "source": [
    "SEPULING_SHARE = SEPULING.get_share_field()"
   ]
  },
  {
   "cell_type": "code",
   "execution_count": 40,
   "metadata": {},
   "outputs": [],
   "source": [
    "from functions.secondary import all_secondary_functions as fs"
   ]
  },
  {
   "cell_type": "code",
   "execution_count": 41,
   "metadata": {},
   "outputs": [
    {
     "name": "stdout",
     "output_type": "stream",
     "text": [
      "6 stream(s) and 0 link(s) closed, 6 stream(es) left                                                                     \n"
     ]
    },
    {
     "data": {
      "text/plain": [
       "6"
      ]
     },
     "execution_count": 41,
     "metadata": {},
     "output_type": "execute_result"
    }
   ],
   "source": [
    "cx.forget_all_streams()"
   ]
  },
  {
   "cell_type": "code",
   "execution_count": 42,
   "metadata": {
    "scrolled": false
   },
   "outputs": [
    {
     "name": "stdout",
     "output_type": "stream",
     "text": [
      "streamable_mixin.py:102: 6 lines expected from file sepulka_state.tsv...                                                \r",
      "streamable_mixin.py:102: 6 lines expected from file sepulka_master.tsv...                                               \r",
      "Reading sepulka_master.tsv (6 items): starting...                                                                       \r",
      "23:44+00:00'00=23:44 Reading sepulka_master.tsv: UNK (5/4), 0 err (4008 it/sec)                                         \r",
      "23:44+00:00'00=23:44 Reading sepulka_master.tsv: Done. 5 items processed (4008 it/sec)                                  \n",
      "Reading sepulka_state.tsv (6 items): starting...                                                                        \r",
      "23:44+00:00'00=23:44 Reading sepulka_state.tsv: UNK (5/4), 0 err (4000 it/sec)                                          \r",
      "23:44+00:00'00=23:44 Reading sepulka_state.tsv: Done. 5 items processed (2001 it/sec)                                   \n",
      "Sorting single part without saving...                                                                                   \r",
      "Sorting 5 items in memory...                                                                                            \r",
      "Sorting has been finished.                                                                                              \r",
      "Merging 1 parts...                                                                                                      \n"
     ]
    }
   ],
   "source": [
    "stream_sepulcarium_state = tsv_sepulka_state.to_record_stream().join(\n",
    "    tsv_sepulka_master.to_record_stream(),\n",
    "    key=SEPULKA_ID,\n",
    "    how='left',\n",
    ").group_by(\n",
    "    SEPULKARIUM.get_id_field(),\n",
    "    values=[SEPULKA_ID, SEPULING_SHARE],\n",
    ").select(\n",
    "    '*',\n",
    "#     SEPULKARIUM.get_id_field(),\n",
    "    SEPULING_SHARE.map(fs.mean(round_digits=2)).to(SEPULING_SHARE),\n",
    "    SEPULKA_ID.map(fs.count()).to(SEPULKA.get_count_field())\n",
    ").collect()"
   ]
  },
  {
   "cell_type": "code",
   "execution_count": 43,
   "metadata": {},
   "outputs": [
    {
     "data": {
      "text/html": [
       "<h1>snakee_8621_220522_234403</h1>"
      ],
      "text/plain": [
       "<IPython.core.display.HTML object>"
      ]
     },
     "metadata": {},
     "output_type": "display_data"
    },
    {
     "data": {
      "text/html": [
       "<p style=\"line-height: 1.1em; margin-top: 0em; margin-bottom: 0em; padding-top: 0em; padding-bottom: 0em;\">RecordStream('snakee_8621_220522_234403') in memory 2 rows, 4 columns: sepuling_share, sepulka_count, sepulka_id, sepulkarium_id<br>\n",
       "Expected struct not defined, displaying detected struct:</p>"
      ],
      "text/plain": [
       "<IPython.core.display.HTML object>"
      ]
     },
     "metadata": {},
     "output_type": "display_data"
    },
    {
     "data": {
      "text/html": [
       "<h3>Columns</h3>"
      ],
      "text/plain": [
       "<IPython.core.display.HTML object>"
      ]
     },
     "metadata": {},
     "output_type": "display_data"
    },
    {
     "data": {
      "text/html": [
       "<table>\n",
       "<thead>\n",
       "<tr>\n",
       "<th>valid</th>\n",
       "<th>n</th>\n",
       "<th>type</th>\n",
       "<th>name</th>\n",
       "<th>example</th>\n",
       "<th>caption</th>\n",
       "</tr>\n",
       "</thead>\n",
       "<tbody>\n",
       "<tr>\n",
       "<td style=\"Auto\">~</td>\n",
       "<td style=\"Auto\">0</td>\n",
       "<td style=\"Auto\">None</td>\n",
       "<td style=\"Auto\">sepuling_share</td>\n",
       "<td style=\"Auto\">0.7</td>\n",
       "<td style=\"Auto\"></td>\n",
       "</tr>\n",
       "<tr>\n",
       "<td style=\"Auto\">~</td>\n",
       "<td style=\"Auto\">1</td>\n",
       "<td style=\"Auto\">None</td>\n",
       "<td style=\"Auto\">sepulka_count</td>\n",
       "<td style=\"Auto\">3</td>\n",
       "<td style=\"Auto\"></td>\n",
       "</tr>\n",
       "<tr>\n",
       "<td style=\"Auto\">~</td>\n",
       "<td style=\"Auto\">2</td>\n",
       "<td style=\"Auto\">None</td>\n",
       "<td style=\"Auto\">sepulka_id</td>\n",
       "<td style=\"Auto\">[1, 3, 5]</td>\n",
       "<td style=\"Auto\"></td>\n",
       "</tr>\n",
       "<tr>\n",
       "<td style=\"Auto\">~</td>\n",
       "<td style=\"Auto\">3</td>\n",
       "<td style=\"Auto\">None</td>\n",
       "<td style=\"Auto\">sepulkarium_id</td>\n",
       "<td style=\"Auto\">10</td>\n",
       "<td style=\"Auto\"></td>\n",
       "</tr>\n",
       "</tbody>\n",
       "</table>"
      ],
      "text/plain": [
       "<IPython.core.display.HTML object>"
      ]
     },
     "metadata": {},
     "output_type": "display_data"
    },
    {
     "data": {
      "text/html": [
       "<h3>Rows sample</h3>"
      ],
      "text/plain": [
       "<IPython.core.display.HTML object>"
      ]
     },
     "metadata": {},
     "output_type": "display_data"
    },
    {
     "data": {
      "text/html": [
       "<table>\n",
       "<thead>\n",
       "<tr>\n",
       "<th>sepulkarium_id</th>\n",
       "<th>sepulka_id</th>\n",
       "<th>sepuling_share</th>\n",
       "<th>sepulka_count</th>\n",
       "</tr>\n",
       "</thead>\n",
       "<tbody>\n",
       "<tr>\n",
       "<td style=\"Auto\">10</td>\n",
       "<td style=\"Auto\">[1, 3, 5]</td>\n",
       "<td style=\"Auto\">0.7</td>\n",
       "<td style=\"Auto\">3</td>\n",
       "</tr>\n",
       "<tr>\n",
       "<td style=\"Auto\">20</td>\n",
       "<td style=\"Auto\">[2, 4]</td>\n",
       "<td style=\"Auto\">0.7</td>\n",
       "<td style=\"Auto\">2</td>\n",
       "</tr>\n",
       "</tbody>\n",
       "</table>"
      ],
      "text/plain": [
       "<IPython.core.display.HTML object>"
      ]
     },
     "metadata": {},
     "output_type": "display_data"
    },
    {
     "data": {
      "text/plain": [
       "RecordStream('snakee_8621_220522_234403')"
      ]
     },
     "execution_count": 43,
     "metadata": {},
     "output_type": "execute_result"
    }
   ],
   "source": [
    "stream_sepulcarium_state.describe()"
   ]
  },
  {
   "cell_type": "code",
   "execution_count": null,
   "metadata": {},
   "outputs": [],
   "source": []
  },
  {
   "cell_type": "code",
   "execution_count": 44,
   "metadata": {},
   "outputs": [],
   "source": [
    "dict_sepulkarium_state = stream_sepulcarium_state.get_dict(SEPULKARIUM.get_id_field(), SEPULING_SHARE)\n",
    "dict_sepulka_count_by_sepulkarium = stream_sepulcarium_state.get_dict(SEPULKARIUM.get_id_field(), SEPULKA.get_count_field())"
   ]
  },
  {
   "cell_type": "code",
   "execution_count": 45,
   "metadata": {},
   "outputs": [
    {
     "data": {
      "text/plain": [
       "{10: 0.7, 20: 0.7}"
      ]
     },
     "execution_count": 45,
     "metadata": {},
     "output_type": "execute_result"
    }
   ],
   "source": [
    "dict_sepulkarium_state"
   ]
  },
  {
   "cell_type": "code",
   "execution_count": 46,
   "metadata": {},
   "outputs": [
    {
     "data": {
      "text/plain": [
       "{10: 3, 20: 2}"
      ]
     },
     "execution_count": 46,
     "metadata": {},
     "output_type": "execute_result"
    }
   ],
   "source": [
    "dict_sepulka_count_by_sepulkarium"
   ]
  },
  {
   "cell_type": "code",
   "execution_count": null,
   "metadata": {},
   "outputs": [],
   "source": []
  }
 ],
 "metadata": {
  "kernelspec": {
   "display_name": "Python 3",
   "language": "python",
   "name": "python3"
  },
  "language_info": {
   "codemirror_mode": {
    "name": "ipython",
    "version": 3
   },
   "file_extension": ".py",
   "mimetype": "text/x-python",
   "name": "python",
   "nbconvert_exporter": "python",
   "pygments_lexer": "ipython3",
   "version": "3.7.4"
  }
 },
 "nbformat": 4,
 "nbformat_minor": 2
}
