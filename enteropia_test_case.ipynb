{
 "cells": [
  {
   "cell_type": "code",
   "execution_count": 1,
   "metadata": {},
   "outputs": [],
   "source": [
    "from content.terms.term_classes import ProcessTerm, ObjectTerm, HierarchicTerm, TermRelation\n",
    "from content.fields.field_classes import struct\n",
    "from context import SnakeeContext\n",
    "\n",
    "from content.terms.terms_test import SEPULING, SEPULKA, SEPULKARIUM"
   ]
  },
  {
   "cell_type": "code",
   "execution_count": 2,
   "metadata": {},
   "outputs": [],
   "source": [
    "cx = SnakeeContext()"
   ]
  },
  {
   "cell_type": "code",
   "execution_count": null,
   "metadata": {},
   "outputs": [],
   "source": []
  },
  {
   "cell_type": "code",
   "execution_count": 3,
   "metadata": {},
   "outputs": [
    {
     "name": "stdout",
     "output_type": "stream",
     "text": [
      "ProcessTerm('sepuling', caption='an activity of Ardrites from the planet of Enteropia')\n"
     ]
    }
   ],
   "source": [
    "print(SEPULING)"
   ]
  },
  {
   "cell_type": "code",
   "execution_count": 4,
   "metadata": {},
   "outputs": [
    {
     "data": {
      "text/html": [
       "<div name='sepuling header'><h1>sepuling ProcessTerm</h1><p style='line-height: 1.1em; margin-top: 0em; margin-bottom: 0em; padding-top: 0em; padding-bottom: 0em;'>an activity of Ardrites from the planet of Enteropia</p></div>"
      ],
      "text/plain": [
       "<IPython.core.display.HTML object>"
      ]
     },
     "metadata": {},
     "output_type": "display_data"
    },
    {
     "data": {
      "text/html": [
       "<div name='Meta'><h3 name='Meta title'>Meta</h3><table><thead>    <tr>        <th>defined</th>        <th>key</th>        <th>value</th>        <th>actual_type</th>        <th>expected_type</th>        <th>default</th>    </tr></thead>    <tbody>        <tr>            <td>+</td>            <td>name</td>            <td>'sepuling'</td>            <td>str</td>            <td>str</td>            <td>-</td>        </tr>        <tr>            <td>+</td>            <td>caption</td>            <td>'an activity of Ardrites fro..</td>            <td>str</td>            <td>str</td>            <td>''</td>        </tr>    </tbody></table></div>"
      ],
      "text/plain": [
       "<IPython.core.display.HTML object>"
      ]
     },
     "metadata": {},
     "output_type": "display_data"
    },
    {
     "data": {
      "text/html": [
       "<div><h3 name='Fields title'>Fields</h3><table><thead>    <tr>        <th>role</th>        <th>name</th>        <th>type</th>        <th>caption</th>        <th>repr</th>    </tr></thead>    <tbody>        <tr>            <td>share</td>            <td>sepuling_share</td>            <td><ValueType.Float: 'float'></td>            <td>share of sepuling (an activity of Ardrites from the planet of Enteropia)</td>            <td>None</td>        </tr>    </tbody></table><h3 name='Relations title'>Relations</h3><table><thead>    <tr>        <th>key</th>        <th>value</th>    </tr></thead>    <tbody>        <tr>            <td>sepulka</td>            <td>TermRelation.Object</td>        </tr>        <tr>            <td>sepulkarium</td>            <td>TermRelation.Object</td>        </tr>    </tbody></table></div>"
      ],
      "text/plain": [
       "<IPython.core.display.HTML object>"
      ]
     },
     "metadata": {},
     "output_type": "display_data"
    },
    {
     "data": {
      "text/plain": [
       "sepuling"
      ]
     },
     "execution_count": 4,
     "metadata": {},
     "output_type": "execute_result"
    }
   ],
   "source": [
    "SEPULING.describe()"
   ]
  },
  {
   "cell_type": "code",
   "execution_count": 5,
   "metadata": {},
   "outputs": [
    {
     "data": {
      "text/html": [
       "<div name='sepulka header'><h1>sepulka ObjectTerm</h1><p style='line-height: 1.1em; margin-top: 0em; margin-bottom: 0em; padding-top: 0em; padding-bottom: 0em;'>a prominent element of the civilization of Ardrites from the planet of Enteropia</p></div>"
      ],
      "text/plain": [
       "<IPython.core.display.HTML object>"
      ]
     },
     "metadata": {},
     "output_type": "display_data"
    },
    {
     "data": {
      "text/html": [
       "<div name='Meta'><h3 name='Meta title'>Meta</h3><table><thead>    <tr>        <th>defined</th>        <th>key</th>        <th>value</th>        <th>actual_type</th>        <th>expected_type</th>        <th>default</th>    </tr></thead>    <tbody>        <tr>            <td>+</td>            <td>name</td>            <td>'sepulka'</td>            <td>str</td>            <td>str</td>            <td>-</td>        </tr>        <tr>            <td>+</td>            <td>caption</td>            <td>'a prominent element of the ..</td>            <td>str</td>            <td>str</td>            <td>''</td>        </tr>    </tbody></table></div>"
      ],
      "text/plain": [
       "<IPython.core.display.HTML object>"
      ]
     },
     "metadata": {},
     "output_type": "display_data"
    },
    {
     "data": {
      "text/html": [
       "<div><h3 name='Fields title'>Fields</h3><table><thead>    <tr>        <th>role</th>        <th>name</th>        <th>type</th>        <th>caption</th>        <th>repr</th>    </tr></thead>    <tbody>        <tr>            <td>id</td>            <td>sepulka_id</td>            <td><ValueType.Int: 'int'></td>            <td>id of sepulka (a prominent element of the civilization of Ardrites from the planet of Enteropia)</td>            <td>None</td>        </tr>        <tr>            <td>name</td>            <td>sepulka_name</td>            <td><ValueType.Str: 'str'></td>            <td>name of sepulka (a prominent element of the civilization of Ardrites from the planet of Enteropia)</td>            <td>None</td>        </tr>        <tr>            <td>count</td>            <td>sepulka_count</td>            <td><ValueType.Int: 'int'></td>            <td>count of sepulka (a prominent element of the civilization of Ardrites from the planet of Enteropia)</td>            <td>None</td>        </tr>    </tbody></table><h3 name='Relations title'>Relations</h3><table><thead>    <tr>        <th>key</th>        <th>value</th>    </tr></thead>    <tbody>        <tr>            <td>sepuling</td>            <td>TermRelation.Process</td>        </tr>        <tr>            <td>sepulkarium</td>            <td>TermRelation.ManyToOne</td>        </tr>    </tbody></table></div>"
      ],
      "text/plain": [
       "<IPython.core.display.HTML object>"
      ]
     },
     "metadata": {},
     "output_type": "display_data"
    },
    {
     "data": {
      "text/plain": [
       "sepulka"
      ]
     },
     "execution_count": 5,
     "metadata": {},
     "output_type": "execute_result"
    }
   ],
   "source": [
    "SEPULKA.describe()"
   ]
  },
  {
   "cell_type": "code",
   "execution_count": 6,
   "metadata": {},
   "outputs": [
    {
     "data": {
      "text/html": [
       "<div name='sepulkarium header'><h1>sepulkarium ObjectTerm</h1><p style='line-height: 1.1em; margin-top: 0em; margin-bottom: 0em; padding-top: 0em; padding-bottom: 0em;'>establishments used for sepuling</p></div>"
      ],
      "text/plain": [
       "<IPython.core.display.HTML object>"
      ]
     },
     "metadata": {},
     "output_type": "display_data"
    },
    {
     "data": {
      "text/html": [
       "<div name='Meta'><h3 name='Meta title'>Meta</h3><table><thead>    <tr>        <th>defined</th>        <th>key</th>        <th>value</th>        <th>actual_type</th>        <th>expected_type</th>        <th>default</th>    </tr></thead>    <tbody>        <tr>            <td>+</td>            <td>name</td>            <td>'sepulkarium'</td>            <td>str</td>            <td>str</td>            <td>-</td>        </tr>        <tr>            <td>+</td>            <td>caption</td>            <td>'establishments used for sep..</td>            <td>str</td>            <td>str</td>            <td>''</td>        </tr>    </tbody></table></div>"
      ],
      "text/plain": [
       "<IPython.core.display.HTML object>"
      ]
     },
     "metadata": {},
     "output_type": "display_data"
    },
    {
     "data": {
      "text/html": [
       "<div><h3 name='Fields title'>Fields</h3><table><thead>    <tr>        <th>role</th>        <th>name</th>        <th>type</th>        <th>caption</th>        <th>repr</th>    </tr></thead>    <tbody>        <tr>            <td>id</td>            <td>sepulkarium_id</td>            <td><ValueType.Int: 'int'></td>            <td>id of sepulkarium (establishments used for sepuling)</td>            <td>None</td>        </tr>        <tr>            <td>name</td>            <td>sepulkarium_name</td>            <td><ValueType.Str: 'str'></td>            <td>name of sepulkarium (establishments used for sepuling)</td>            <td>None</td>        </tr>    </tbody></table><h3 name='Relations title'>Relations</h3><table><thead>    <tr>        <th>key</th>        <th>value</th>    </tr></thead>    <tbody>        <tr>            <td>sepulka</td>            <td>TermRelation.OneToMany</td>        </tr>        <tr>            <td>sepuling</td>            <td>TermRelation.Process</td>        </tr>    </tbody></table></div>"
      ],
      "text/plain": [
       "<IPython.core.display.HTML object>"
      ]
     },
     "metadata": {},
     "output_type": "display_data"
    },
    {
     "data": {
      "text/plain": [
       "sepulkarium"
      ]
     },
     "execution_count": 6,
     "metadata": {},
     "output_type": "execute_result"
    }
   ],
   "source": [
    "SEPULKARIUM.describe()"
   ]
  },
  {
   "cell_type": "code",
   "execution_count": null,
   "metadata": {},
   "outputs": [],
   "source": []
  },
  {
   "cell_type": "code",
   "execution_count": null,
   "metadata": {},
   "outputs": [],
   "source": []
  },
  {
   "cell_type": "code",
   "execution_count": 7,
   "metadata": {},
   "outputs": [],
   "source": [
    "SEPULKA_ID = SEPULKA.get_id_field()"
   ]
  },
  {
   "cell_type": "code",
   "execution_count": 8,
   "metadata": {},
   "outputs": [
    {
     "data": {
      "text/html": [
       "<div name='sepulka_id header'><h1>sepulka_id AnyField</h1><p style='line-height: 1.1em; margin-top: 0em; margin-bottom: 0em; padding-top: 0em; padding-bottom: 0em;'>    name:      sepulka_id    caption:   id of sepulka (a prominent element of the civilization of Ardrites from the planet of Enteropia)    meta:      value_type=ValueType.Int, representation=None, default_value=None, example_value=None, default_item_typ..</p></div>"
      ],
      "text/plain": [
       "<IPython.core.display.HTML object>"
      ]
     },
     "metadata": {},
     "output_type": "display_data"
    },
    {
     "data": {
      "text/html": [
       "<div name='Meta'><h3 name='Meta title'>Meta</h3><table><thead>    <tr>        <th>defined</th>        <th>key</th>        <th>value</th>        <th>actual_type</th>        <th>expected_type</th>        <th>default</th>    </tr></thead>    <tbody>        <tr>            <td>+</td>            <td>name</td>            <td>'sepulka_id'</td>            <td>str</td>            <td>str</td>            <td>-</td>        </tr>        <tr>            <td>+</td>            <td>value_type</td>            <td>ValueType.Int</td>            <td>ValueType</td>            <td>ValueType</td>            <td>ValueType.Any</td>        </tr>        <tr>            <td>x</td>            <td>representation</td>            <td>-</td>            <td>NoneType</td>            <td>Union[content.repr..</td>            <td>-</td>        </tr>        <tr>            <td>+</td>            <td>caption</td>            <td>'id of sepulka (a prominent ..</td>            <td>str</td>            <td>str</td>            <td>''</td>        </tr>        <tr>            <td>-</td>            <td>default_item_type</td>            <td>ItemType.Any</td>            <td>ItemType</td>            <td>ItemType</td>            <td>ItemType.Any</td>        </tr>        <tr>            <td>x</td>            <td>default_value</td>            <td>-</td>            <td>NoneType</td>            <td>Any</td>            <td>-</td>        </tr>        <tr>            <td>x</td>            <td>example_value</td>            <td>-</td>            <td>NoneType</td>            <td>Any</td>            <td>-</td>        </tr>        <tr>            <td>x</td>            <td>is_valid</td>            <td>-</td>            <td>NoneType</td>            <td>Optional[bool]</td>            <td>-</td>        </tr>        <tr>            <td>-</td>            <td>skip_errors</td>            <td>False</td>            <td>bool</td>            <td>bool</td>            <td>False</td>        </tr>        <tr>            <td>x</td>            <td>logger</td>            <td>-</td>            <td>NoneType</td>            <td>Optional[loggers.s..</td>            <td>-</td>        </tr>        <tr>            <td>+</td>            <td>group_name</td>            <td>''</td>            <td>str</td>            <td>Optional[str]</td>            <td>-</td>        </tr>        <tr>            <td>+</td>            <td>group_caption</td>            <td>''</td>            <td>str</td>            <td>Optional[str]</td>            <td>-</td>        </tr>    </tbody></table></div>"
      ],
      "text/plain": [
       "<IPython.core.display.HTML object>"
      ]
     },
     "metadata": {},
     "output_type": "display_data"
    },
    {
     "data": {
      "text/plain": [
       "sepulka_id: int"
      ]
     },
     "execution_count": 8,
     "metadata": {},
     "output_type": "execute_result"
    }
   ],
   "source": [
    "SEPULKA_ID.describe()"
   ]
  },
  {
   "cell_type": "code",
   "execution_count": null,
   "metadata": {},
   "outputs": [],
   "source": []
  },
  {
   "cell_type": "code",
   "execution_count": 9,
   "metadata": {},
   "outputs": [],
   "source": [
    "LOCATION = HierarchicTerm('location', 'location of sepulka', ['planet', 'region', 'sepulcarium', 'slot'])"
   ]
  },
  {
   "cell_type": "code",
   "execution_count": 10,
   "metadata": {},
   "outputs": [
    {
     "data": {
      "text/plain": [
       "location"
      ]
     },
     "execution_count": 10,
     "metadata": {},
     "output_type": "execute_result"
    }
   ],
   "source": [
    "LOCATION"
   ]
  },
  {
   "cell_type": "code",
   "execution_count": 11,
   "metadata": {},
   "outputs": [
    {
     "name": "stdout",
     "output_type": "stream",
     "text": [
      "HierarchicTerm('location', caption='location of sepulka', levels=[planet, region, sepulcarium, slot], default_level=s..)\n"
     ]
    }
   ],
   "source": [
    "print(LOCATION)"
   ]
  },
  {
   "cell_type": "code",
   "execution_count": 12,
   "metadata": {},
   "outputs": [
    {
     "data": {
      "text/html": [
       "<div name='location header'><h1>location HierarchicTerm</h1><p style='line-height: 1.1em; margin-top: 0em; margin-bottom: 0em; padding-top: 0em; padding-bottom: 0em;'>location of sepulka</p></div>"
      ],
      "text/plain": [
       "<IPython.core.display.HTML object>"
      ]
     },
     "metadata": {},
     "output_type": "display_data"
    },
    {
     "data": {
      "text/html": [
       "<div name='Meta'><h3 name='Meta title'>Meta</h3><table><thead>    <tr>        <th>defined</th>        <th>key</th>        <th>value</th>        <th>actual_type</th>        <th>expected_type</th>        <th>default</th>    </tr></thead>    <tbody>        <tr>            <td>+</td>            <td>name</td>            <td>'location'</td>            <td>str</td>            <td>str</td>            <td>-</td>        </tr>        <tr>            <td>+</td>            <td>caption</td>            <td>'location of sepulka'</td>            <td>str</td>            <td>str</td>            <td>''</td>        </tr>        <tr>            <td>+</td>            <td>levels</td>            <td>[planet, region, sepulcarium..</td>            <td>list</td>            <td>Union[base.classes..</td>            <td>-</td>        </tr>        <tr>            <td>+</td>            <td>default_level</td>            <td>slot</td>            <td>ObjectTerm</td>            <td>Union[content.term..</td>            <td>-</td>        </tr>        <tr>            <td>-</td>            <td>ids_is_independent</td>            <td>False</td>            <td>bool</td>            <td>bool</td>            <td>False</td>        </tr>    </tbody></table></div>"
      ],
      "text/plain": [
       "<IPython.core.display.HTML object>"
      ]
     },
     "metadata": {},
     "output_type": "display_data"
    },
    {
     "data": {
      "text/plain": [
       "None"
      ]
     },
     "metadata": {},
     "output_type": "display_data"
    },
    {
     "data": {
      "text/html": [
       "<div name='slot header'><h1>slot ObjectTerm</h1><p style='line-height: 1.1em; margin-top: 0em; margin-bottom: 0em; padding-top: 0em; padding-bottom: 0em;'>location level 3 (location of sepulka)</p></div>\n",
       "<div name='Meta'><h3 name='Meta title'>Meta</h3><table><thead>    <tr>        <th>defined</th>        <th>key</th>        <th>value</th>        <th>actual_type</th>        <th>expected_type</th>        <th>default</th>    </tr></thead>    <tbody>        <tr>            <td>+</td>            <td>name</td>            <td>'slot'</td>            <td>str</td>            <td>str</td>            <td>-</td>        </tr>        <tr>            <td>+</td>            <td>caption</td>            <td>'location level 3 (location ..</td>            <td>str</td>            <td>str</td>            <td>''</td>        </tr>    </tbody></table></div>\n"
      ],
      "text/plain": [
       "<IPython.core.display.HTML object>"
      ]
     },
     "metadata": {},
     "output_type": "display_data"
    },
    {
     "data": {
      "text/plain": [
       "location"
      ]
     },
     "execution_count": 12,
     "metadata": {},
     "output_type": "execute_result"
    }
   ],
   "source": [
    "LOCATION.describe()"
   ]
  },
  {
   "cell_type": "code",
   "execution_count": 13,
   "metadata": {},
   "outputs": [
    {
     "data": {
      "text/plain": [
       "planet"
      ]
     },
     "execution_count": 13,
     "metadata": {},
     "output_type": "execute_result"
    }
   ],
   "source": [
    "LOCATION.get_level_terms()[0]"
   ]
  },
  {
   "cell_type": "code",
   "execution_count": null,
   "metadata": {},
   "outputs": [],
   "source": []
  },
  {
   "cell_type": "code",
   "execution_count": null,
   "metadata": {},
   "outputs": [],
   "source": []
  },
  {
   "cell_type": "code",
   "execution_count": 14,
   "metadata": {},
   "outputs": [
    {
     "data": {
      "text/plain": [
       "slot_id: int"
      ]
     },
     "execution_count": 14,
     "metadata": {},
     "output_type": "execute_result"
    }
   ],
   "source": [
    "LOCATION.get_level_term(3).get_id_field()"
   ]
  },
  {
   "cell_type": "code",
   "execution_count": null,
   "metadata": {},
   "outputs": [],
   "source": []
  },
  {
   "cell_type": "code",
   "execution_count": 15,
   "metadata": {},
   "outputs": [
    {
     "data": {
      "text/plain": [
       "[planet, region, sepulcarium, slot]"
      ]
     },
     "execution_count": 15,
     "metadata": {},
     "output_type": "execute_result"
    }
   ],
   "source": [
    "LOCATION.get_level_terms()"
   ]
  },
  {
   "cell_type": "code",
   "execution_count": 16,
   "metadata": {},
   "outputs": [
    {
     "data": {
      "text/html": [
       "<div name='slot header'><h1>slot ObjectTerm</h1><p style='line-height: 1.1em; margin-top: 0em; margin-bottom: 0em; padding-top: 0em; padding-bottom: 0em;'>location level 3 (location of sepulka)</p></div>"
      ],
      "text/plain": [
       "<IPython.core.display.HTML object>"
      ]
     },
     "metadata": {},
     "output_type": "display_data"
    },
    {
     "data": {
      "text/html": [
       "<div name='Meta'><h3 name='Meta title'>Meta</h3><table><thead>    <tr>        <th>defined</th>        <th>key</th>        <th>value</th>        <th>actual_type</th>        <th>expected_type</th>        <th>default</th>    </tr></thead>    <tbody>        <tr>            <td>+</td>            <td>name</td>            <td>'slot'</td>            <td>str</td>            <td>str</td>            <td>-</td>        </tr>        <tr>            <td>+</td>            <td>caption</td>            <td>'location level 3 (location ..</td>            <td>str</td>            <td>str</td>            <td>''</td>        </tr>    </tbody></table></div>"
      ],
      "text/plain": [
       "<IPython.core.display.HTML object>"
      ]
     },
     "metadata": {},
     "output_type": "display_data"
    },
    {
     "data": {
      "text/html": [
       "<div><h3 name='Fields title'>Fields</h3><table><thead>    <tr>        <th>role</th>        <th>name</th>        <th>type</th>        <th>caption</th>        <th>repr</th>    </tr></thead>    <tbody>        <tr>            <td>id</td>            <td>slot_id</td>            <td><ValueType.Int: 'int'></td>            <td>id of slot (location level 3 (location of sepulka))</td>            <td>None</td>        </tr>    </tbody></table></div>"
      ],
      "text/plain": [
       "<IPython.core.display.HTML object>"
      ]
     },
     "metadata": {},
     "output_type": "display_data"
    },
    {
     "data": {
      "text/plain": [
       "slot"
      ]
     },
     "execution_count": 16,
     "metadata": {},
     "output_type": "execute_result"
    }
   ],
   "source": [
    "LOCATION.get_level_term(3).describe()"
   ]
  },
  {
   "cell_type": "code",
   "execution_count": 17,
   "metadata": {},
   "outputs": [
    {
     "data": {
      "text/plain": [
       "0"
      ]
     },
     "execution_count": 17,
     "metadata": {},
     "output_type": "execute_result"
    }
   ],
   "source": [
    "LOCATION.get_depth(0)"
   ]
  },
  {
   "cell_type": "code",
   "execution_count": 18,
   "metadata": {},
   "outputs": [
    {
     "data": {
      "text/plain": [
       "sepulcarium_id: int"
      ]
     },
     "execution_count": 18,
     "metadata": {},
     "output_type": "execute_result"
    }
   ],
   "source": [
    "LOCATION.get_level_id_field(2)"
   ]
  },
  {
   "cell_type": "code",
   "execution_count": 19,
   "metadata": {},
   "outputs": [
    {
     "data": {
      "text/plain": [
       "location_key: str"
      ]
     },
     "execution_count": 19,
     "metadata": {},
     "output_type": "execute_result"
    }
   ],
   "source": [
    "LOCATION.get_key_field()"
   ]
  },
  {
   "cell_type": "code",
   "execution_count": 20,
   "metadata": {},
   "outputs": [
    {
     "data": {
      "text/plain": [
       "[planet_id: int, region_id: int, sepulcarium_id: int, slot_id: int]"
      ]
     },
     "execution_count": 20,
     "metadata": {},
     "output_type": "execute_result"
    }
   ],
   "source": [
    "LOCATION.get_id_fields()"
   ]
  },
  {
   "cell_type": "code",
   "execution_count": 21,
   "metadata": {},
   "outputs": [
    {
     "data": {
      "text/plain": [
       "(location_key: str,\n",
       " <function content.terms.hierarchic_term.HierarchicTerm.get_key_selection_tuple.<locals>.<lambda>(*a)>,\n",
       " planet_id: int,\n",
       " region_id: int,\n",
       " sepulcarium_id: int,\n",
       " slot_id: int)"
      ]
     },
     "execution_count": 21,
     "metadata": {},
     "output_type": "execute_result"
    }
   ],
   "source": [
    "LOCATION.get_key_selection_tuple(True)"
   ]
  },
  {
   "cell_type": "code",
   "execution_count": null,
   "metadata": {},
   "outputs": [],
   "source": []
  },
  {
   "cell_type": "code",
   "execution_count": 22,
   "metadata": {},
   "outputs": [
    {
     "data": {
      "text/html": [
       "<div name='location header'><h1>location HierarchicTerm</h1><p style='line-height: 1.1em; margin-top: 0em; margin-bottom: 0em; padding-top: 0em; padding-bottom: 0em;'>location of sepulka</p></div>"
      ],
      "text/plain": [
       "<IPython.core.display.HTML object>"
      ]
     },
     "metadata": {},
     "output_type": "display_data"
    },
    {
     "data": {
      "text/html": [
       "<div name='Meta'><h3 name='Meta title'>Meta</h3><table><thead>    <tr>        <th>defined</th>        <th>key</th>        <th>value</th>        <th>actual_type</th>        <th>expected_type</th>        <th>default</th>    </tr></thead>    <tbody>        <tr>            <td>+</td>            <td>name</td>            <td>'location'</td>            <td>str</td>            <td>str</td>            <td>-</td>        </tr>        <tr>            <td>+</td>            <td>caption</td>            <td>'location of sepulka'</td>            <td>str</td>            <td>str</td>            <td>''</td>        </tr>        <tr>            <td>+</td>            <td>levels</td>            <td>[planet, region, sepulcarium..</td>            <td>list</td>            <td>Union[base.classes..</td>            <td>-</td>        </tr>        <tr>            <td>+</td>            <td>default_level</td>            <td>slot</td>            <td>ObjectTerm</td>            <td>Union[content.term..</td>            <td>-</td>        </tr>        <tr>            <td>-</td>            <td>ids_is_independent</td>            <td>False</td>            <td>bool</td>            <td>bool</td>            <td>False</td>        </tr>    </tbody></table></div>"
      ],
      "text/plain": [
       "<IPython.core.display.HTML object>"
      ]
     },
     "metadata": {},
     "output_type": "display_data"
    },
    {
     "data": {
      "text/html": [
       "<div><h3 name='Fields title'>Fields</h3><table><thead>    <tr>        <th>role</th>        <th>name</th>        <th>type</th>        <th>caption</th>        <th>repr</th>    </tr></thead>    <tbody>        <tr>            <td>key</td>            <td>location_key</td>            <td><ValueType.Str: 'str'></td>            <td>key of location (location of sepulka)</td>            <td>None</td>        </tr>    </tbody></table></div>"
      ],
      "text/plain": [
       "<IPython.core.display.HTML object>"
      ]
     },
     "metadata": {},
     "output_type": "display_data"
    },
    {
     "data": {
      "text/html": [
       "<div name='slot header'><h1>slot ObjectTerm</h1><p style='line-height: 1.1em; margin-top: 0em; margin-bottom: 0em; padding-top: 0em; padding-bottom: 0em;'>location level 3 (location of sepulka)</p></div>\n",
       "<div name='Meta'><h3 name='Meta title'>Meta</h3><table><thead>    <tr>        <th>defined</th>        <th>key</th>        <th>value</th>        <th>actual_type</th>        <th>expected_type</th>        <th>default</th>    </tr></thead>    <tbody>        <tr>            <td>+</td>            <td>name</td>            <td>'slot'</td>            <td>str</td>            <td>str</td>            <td>-</td>        </tr>        <tr>            <td>+</td>            <td>caption</td>            <td>'location level 3 (location ..</td>            <td>str</td>            <td>str</td>            <td>''</td>        </tr>    </tbody></table></div>\n",
       "<div><h3 name='Fields title'>Fields</h3><table><thead>    <tr>        <th>role</th>        <th>name</th>        <th>type</th>        <th>caption</th>        <th>repr</th>    </tr></thead>    <tbody>        <tr>            <td>id</td>            <td>slot_id</td>            <td><ValueType.Int: 'int'></td>            <td>id of slot (location level 3 (location of sepulka))</td>            <td>None</td>        </tr>    </tbody></table></div>"
      ],
      "text/plain": [
       "<IPython.core.display.HTML object>"
      ]
     },
     "metadata": {},
     "output_type": "display_data"
    },
    {
     "data": {
      "text/plain": [
       "location"
      ]
     },
     "execution_count": 22,
     "metadata": {},
     "output_type": "execute_result"
    }
   ],
   "source": [
    "LOCATION.describe()"
   ]
  },
  {
   "cell_type": "code",
   "execution_count": null,
   "metadata": {},
   "outputs": [],
   "source": []
  },
  {
   "cell_type": "code",
   "execution_count": null,
   "metadata": {},
   "outputs": [],
   "source": []
  },
  {
   "cell_type": "code",
   "execution_count": null,
   "metadata": {},
   "outputs": [],
   "source": []
  },
  {
   "cell_type": "code",
   "execution_count": 23,
   "metadata": {},
   "outputs": [
    {
     "name": "stdout",
     "output_type": "stream",
     "text": [
      "AnyField('sepulkarium_id', value_type=ValueType.Int, representation=None, caption='id of sepulkarium (establishments used for sepuling)', default_item_type=ItemType.Any, default_value=None, example_value=None, is_valid=None, skip_errors=False, logger=None, group_name='', group_caption='')\n"
     ]
    }
   ],
   "source": [
    "print(SEPULKARIUM.get_id_field())"
   ]
  },
  {
   "cell_type": "code",
   "execution_count": 24,
   "metadata": {},
   "outputs": [
    {
     "data": {
      "text/html": [
       "<div name='sepulkarium_id header'><h1>sepulkarium_id AnyField</h1><p style='line-height: 1.1em; margin-top: 0em; margin-bottom: 0em; padding-top: 0em; padding-bottom: 0em;'>    name:      sepulkarium_id    caption:   id of sepulkarium (establishments used for sepuling)    meta:      value_type=ValueType.Int, representation=None, default_value=None, example_value=None, default_item_typ..</p></div>"
      ],
      "text/plain": [
       "<IPython.core.display.HTML object>"
      ]
     },
     "metadata": {},
     "output_type": "display_data"
    },
    {
     "data": {
      "text/html": [
       "<div name='Meta'><h3 name='Meta title'>Meta</h3><table><thead>    <tr>        <th>defined</th>        <th>key</th>        <th>value</th>        <th>actual_type</th>        <th>expected_type</th>        <th>default</th>    </tr></thead>    <tbody>        <tr>            <td>+</td>            <td>name</td>            <td>'sepulkarium_id'</td>            <td>str</td>            <td>str</td>            <td>-</td>        </tr>        <tr>            <td>+</td>            <td>value_type</td>            <td>ValueType.Int</td>            <td>ValueType</td>            <td>ValueType</td>            <td>ValueType.Any</td>        </tr>        <tr>            <td>x</td>            <td>representation</td>            <td>-</td>            <td>NoneType</td>            <td>Union[content.repr..</td>            <td>-</td>        </tr>        <tr>            <td>+</td>            <td>caption</td>            <td>'id of sepulkarium (establis..</td>            <td>str</td>            <td>str</td>            <td>''</td>        </tr>        <tr>            <td>-</td>            <td>default_item_type</td>            <td>ItemType.Any</td>            <td>ItemType</td>            <td>ItemType</td>            <td>ItemType.Any</td>        </tr>        <tr>            <td>x</td>            <td>default_value</td>            <td>-</td>            <td>NoneType</td>            <td>Any</td>            <td>-</td>        </tr>        <tr>            <td>x</td>            <td>example_value</td>            <td>-</td>            <td>NoneType</td>            <td>Any</td>            <td>-</td>        </tr>        <tr>            <td>x</td>            <td>is_valid</td>            <td>-</td>            <td>NoneType</td>            <td>Optional[bool]</td>            <td>-</td>        </tr>        <tr>            <td>-</td>            <td>skip_errors</td>            <td>False</td>            <td>bool</td>            <td>bool</td>            <td>False</td>        </tr>        <tr>            <td>x</td>            <td>logger</td>            <td>-</td>            <td>NoneType</td>            <td>Optional[loggers.s..</td>            <td>-</td>        </tr>        <tr>            <td>+</td>            <td>group_name</td>            <td>''</td>            <td>str</td>            <td>Optional[str]</td>            <td>-</td>        </tr>        <tr>            <td>+</td>            <td>group_caption</td>            <td>''</td>            <td>str</td>            <td>Optional[str]</td>            <td>-</td>        </tr>    </tbody></table></div>"
      ],
      "text/plain": [
       "<IPython.core.display.HTML object>"
      ]
     },
     "metadata": {},
     "output_type": "display_data"
    },
    {
     "data": {
      "text/plain": [
       "sepulkarium_id: int"
      ]
     },
     "execution_count": 24,
     "metadata": {},
     "output_type": "execute_result"
    }
   ],
   "source": [
    "SEPULKARIUM.get_id_field().describe()"
   ]
  },
  {
   "cell_type": "code",
   "execution_count": null,
   "metadata": {},
   "outputs": [],
   "source": []
  },
  {
   "cell_type": "code",
   "execution_count": null,
   "metadata": {},
   "outputs": [],
   "source": []
  },
  {
   "cell_type": "code",
   "execution_count": 25,
   "metadata": {},
   "outputs": [],
   "source": [
    "struct_sepulka_state = struct(\n",
    "    SEPULKA.get_id_field(),\n",
    "    SEPULING.get_share_field(),\n",
    "    name='SEPULKARIUM_STATE',\n",
    "    caption='current state of sepuling process',\n",
    ")"
   ]
  },
  {
   "cell_type": "code",
   "execution_count": 26,
   "metadata": {},
   "outputs": [
    {
     "data": {
      "text/plain": [
       "sepulka_id: int, sepuling_share: float"
      ]
     },
     "execution_count": 26,
     "metadata": {},
     "output_type": "execute_result"
    }
   ],
   "source": [
    "struct_sepulka_state"
   ]
  },
  {
   "cell_type": "code",
   "execution_count": 27,
   "metadata": {},
   "outputs": [
    {
     "data": {
      "text/html": [
       "<div name='SEPULKARIUM_STATE header'><h1>SEPULKARIUM_STATE FlatStruct</h1><p style='line-height: 1.1em; margin-top: 0em; margin-bottom: 0em; padding-top: 0em; padding-bottom: 0em;'>FlatStruct('SEPULKARIUM_STATE', caption='')</p></div>"
      ],
      "text/plain": [
       "<IPython.core.display.HTML object>"
      ]
     },
     "metadata": {},
     "output_type": "display_data"
    },
    {
     "data": {
      "text/html": [
       "<div name='Meta'><h3 name='Meta title'>Meta</h3><table><thead>    <tr>        <th>defined</th>        <th>key</th>        <th>value</th>        <th>actual_type</th>        <th>expected_type</th>        <th>default</th>    </tr></thead>    <tbody>        <tr>            <td>+</td>            <td>name</td>            <td>'SEPULKARIUM_STATE'</td>            <td>str</td>            <td>Union[int, str, No..</td>            <td>-</td>        </tr>        <tr>            <td>+</td>            <td>caption</td>            <td>''</td>            <td>str</td>            <td>Optional[str]</td>            <td>-</td>        </tr>    </tbody></table></div>"
      ],
      "text/plain": [
       "<IPython.core.display.HTML object>"
      ]
     },
     "metadata": {},
     "output_type": "display_data"
    },
    {
     "data": {
      "text/html": [
       "<h3 name='Columns title'>Columns</h3>\n",
       "<p style='line-height: 1.1em; margin-top: 0em; margin-bottom: 0em; padding-top: 0em; padding-bottom: 0em;' name='Columns caption'>2 items:</p>\n",
       "<table>\n",
       "<thead>\n",
       "    <tr>\n",
       "        <th>valid</th>\n",
       "        <th>n</th>\n",
       "        <th>type_name</th>\n",
       "        <th>name</th>\n",
       "        <th>caption</th>\n",
       "    </tr>\n",
       "</thead>\n",
       "    <tbody>\n",
       "        <tr>\n",
       "            <td>-</td>\n",
       "            <td>0</td>\n",
       "            <td>int</td>\n",
       "            <td>sepulka_id</td>\n",
       "            <td>id of sepulka (a prominent element of the civilization of Ardrites fro..</td>\n",
       "        </tr>\n",
       "        <tr>\n",
       "            <td>-</td>\n",
       "            <td>1</td>\n",
       "            <td>float</td>\n",
       "            <td>sepuling_share</td>\n",
       "            <td>share of sepuling (an activity of Ardrites from the planet of Enteropia)</td>\n",
       "        </tr>\n",
       "    </tbody>\n",
       "</table>"
      ],
      "text/plain": [
       "<IPython.core.display.HTML object>"
      ]
     },
     "metadata": {},
     "output_type": "display_data"
    },
    {
     "data": {
      "text/plain": [
       "sepulka_id: int, sepuling_share: float"
      ]
     },
     "execution_count": 27,
     "metadata": {},
     "output_type": "execute_result"
    }
   ],
   "source": [
    "struct_sepulka_state.describe()"
   ]
  },
  {
   "cell_type": "code",
   "execution_count": 28,
   "metadata": {},
   "outputs": [
    {
     "data": {
      "text/html": [
       "<table>\n",
       "<thead>\n",
       "    <tr>\n",
       "        <th>valid</th>\n",
       "        <th>n</th>\n",
       "        <th>type_name</th>\n",
       "        <th>name</th>\n",
       "        <th>caption</th>\n",
       "    </tr>\n",
       "</thead>\n",
       "    <tbody>\n",
       "        <tr>\n",
       "            <td>-</td>\n",
       "            <td>0</td>\n",
       "            <td>int</td>\n",
       "            <td>sepulka_id</td>\n",
       "            <td>id of sepulka (a prominent element of the civilization of Ardrites fro..</td>\n",
       "        </tr>\n",
       "        <tr>\n",
       "            <td>-</td>\n",
       "            <td>1</td>\n",
       "            <td>float</td>\n",
       "            <td>sepuling_share</td>\n",
       "            <td>share of sepuling (an activity of Ardrites from the planet of Enteropia)</td>\n",
       "        </tr>\n",
       "    </tbody>\n",
       "</table>"
      ],
      "text/plain": [
       "<IPython.core.display.HTML object>"
      ]
     },
     "metadata": {},
     "output_type": "display_data"
    }
   ],
   "source": [
    "struct_sepulka_state.get_data_sheet().show()"
   ]
  },
  {
   "cell_type": "code",
   "execution_count": null,
   "metadata": {},
   "outputs": [],
   "source": []
  },
  {
   "cell_type": "code",
   "execution_count": 29,
   "metadata": {},
   "outputs": [],
   "source": [
    "struct_sepulkarium_state = struct(\n",
    "    SEPULKARIUM.get_id_field(),\n",
    "    SEPULKARIUM.get_name_field(),\n",
    "    SEPULING.get_share_field(),\n",
    "    SEPULKA.get_count_field(),\n",
    "    name='SEPULKARIUM_STATE',\n",
    "    caption='current state of sepuling process',\n",
    ")"
   ]
  },
  {
   "cell_type": "code",
   "execution_count": 30,
   "metadata": {},
   "outputs": [
    {
     "data": {
      "text/html": [
       "<div name='SEPULKARIUM_STATE header'><h1>SEPULKARIUM_STATE FlatStruct</h1><p style='line-height: 1.1em; margin-top: 0em; margin-bottom: 0em; padding-top: 0em; padding-bottom: 0em;'>FlatStruct('SEPULKARIUM_STATE', caption='')</p></div>"
      ],
      "text/plain": [
       "<IPython.core.display.HTML object>"
      ]
     },
     "metadata": {},
     "output_type": "display_data"
    },
    {
     "data": {
      "text/html": [
       "<div name='Meta'><h3 name='Meta title'>Meta</h3><table><thead>    <tr>        <th>defined</th>        <th>key</th>        <th>value</th>        <th>actual_type</th>        <th>expected_type</th>        <th>default</th>    </tr></thead>    <tbody>        <tr>            <td>+</td>            <td>name</td>            <td>'SEPULKARIUM_STATE'</td>            <td>str</td>            <td>Union[int, str, No..</td>            <td>-</td>        </tr>        <tr>            <td>+</td>            <td>caption</td>            <td>''</td>            <td>str</td>            <td>Optional[str]</td>            <td>-</td>        </tr>    </tbody></table></div>"
      ],
      "text/plain": [
       "<IPython.core.display.HTML object>"
      ]
     },
     "metadata": {},
     "output_type": "display_data"
    },
    {
     "data": {
      "text/html": [
       "<h3 name='Columns title'>Columns</h3>\n",
       "<p style='line-height: 1.1em; margin-top: 0em; margin-bottom: 0em; padding-top: 0em; padding-bottom: 0em;' name='Columns caption'>4 items:</p>\n",
       "<table>\n",
       "<thead>\n",
       "    <tr>\n",
       "        <th>valid</th>\n",
       "        <th>n</th>\n",
       "        <th>type_name</th>\n",
       "        <th>name</th>\n",
       "        <th>caption</th>\n",
       "    </tr>\n",
       "</thead>\n",
       "    <tbody>\n",
       "        <tr>\n",
       "            <td>-</td>\n",
       "            <td>0</td>\n",
       "            <td>int</td>\n",
       "            <td>sepulkarium_id</td>\n",
       "            <td>id of sepulkarium (establishments used for sepuling)</td>\n",
       "        </tr>\n",
       "        <tr>\n",
       "            <td>-</td>\n",
       "            <td>1</td>\n",
       "            <td>str</td>\n",
       "            <td>sepulkarium_name</td>\n",
       "            <td>name of sepulkarium (establishments used for sepuling)</td>\n",
       "        </tr>\n",
       "        <tr>\n",
       "            <td>-</td>\n",
       "            <td>2</td>\n",
       "            <td>float</td>\n",
       "            <td>sepuling_share</td>\n",
       "            <td>share of sepuling (an activity of Ardrites from the planet of Enteropia)</td>\n",
       "        </tr>\n",
       "        <tr>\n",
       "            <td>-</td>\n",
       "            <td>3</td>\n",
       "            <td>int</td>\n",
       "            <td>sepulka_count</td>\n",
       "            <td>count of sepulka (a prominent element of the civilization of Ardrites ..</td>\n",
       "        </tr>\n",
       "    </tbody>\n",
       "</table>"
      ],
      "text/plain": [
       "<IPython.core.display.HTML object>"
      ]
     },
     "metadata": {},
     "output_type": "display_data"
    },
    {
     "data": {
      "text/plain": [
       "sepulkarium_id: int, sepulkarium_name: str, sepuling_share: float, sepulka_count: int"
      ]
     },
     "execution_count": 30,
     "metadata": {},
     "output_type": "execute_result"
    }
   ],
   "source": [
    "struct_sepulkarium_state.describe()"
   ]
  },
  {
   "cell_type": "code",
   "execution_count": null,
   "metadata": {},
   "outputs": [],
   "source": []
  },
  {
   "cell_type": "code",
   "execution_count": 31,
   "metadata": {},
   "outputs": [
    {
     "data": {
      "text/plain": [
       "sepulka_id: int, sepuling_share: float"
      ]
     },
     "execution_count": 31,
     "metadata": {},
     "output_type": "execute_result"
    }
   ],
   "source": [
    "struct_sepulka_state"
   ]
  },
  {
   "cell_type": "code",
   "execution_count": null,
   "metadata": {},
   "outputs": [],
   "source": []
  },
  {
   "cell_type": "code",
   "execution_count": 32,
   "metadata": {},
   "outputs": [],
   "source": [
    "tsv_sepulka_state = cx.get_job_folder().folder('test_tmp').file(\n",
    "    'sepulka_state.tsv',\n",
    "    struct=struct_sepulka_state,\n",
    "    caption=struct_sepulka_state.get_caption(),\n",
    ")"
   ]
  },
  {
   "cell_type": "code",
   "execution_count": 33,
   "metadata": {
    "scrolled": false
   },
   "outputs": [
    {
     "data": {
      "text/html": [
       "<div name='sepulka_state.tsv header'><h1>sepulka_state.tsv LocalFile</h1><p style='line-height: 1.1em; margin-top: 0em; margin-bottom: 0em; padding-top: 0em; padding-bottom: 0em;'>LocalFile('sepulka_state.tsv') expected</p></div>"
      ],
      "text/plain": [
       "<IPython.core.display.HTML object>"
      ]
     },
     "metadata": {},
     "output_type": "display_data"
    },
    {
     "data": {
      "text/html": [
       "<div name='Columns'><h3 name='Columns title'>Columns</h3><p style='line-height: 1.1em; margin-top: 0em; margin-bottom: 0em; padding-top: 0em; padding-bottom: 0em;' name='Columns comment'>2023-09-17 23:35 file has 6 rows, 2 valid columns:</p><table><thead>    <tr>        <th>valid</th>        <th>n</th>        <th>type_name</th>        <th>name</th>        <th>example</th>        <th>caption</th>    </tr></thead>    <tbody>        <tr>            <td>-</td>            <td>0</td>            <td>int</td>            <td>sepulka_id</td>            <td>1</td>            <td>id of sepulka (a prominent element of the civilization..</td>        </tr>        <tr>            <td>-</td>            <td>1</td>            <td>float</td>            <td>sepuling_share</td>            <td>0.9</td>            <td>share of sepuling (an activity of Ardrites from the pl..</td>        </tr>    </tbody></table></div>"
      ],
      "text/plain": [
       "<IPython.core.display.HTML object>"
      ]
     },
     "metadata": {},
     "output_type": "display_data"
    },
    {
     "data": {
      "text/html": [
       "<div name='Example'><h3 name='Example title'>Example</h3><p style='line-height: 1.1em; margin-top: 0em; margin-bottom: 0em; padding-top: 0em; padding-bottom: 0em;' name='Example comment'>Example without any filters:</p><table><thead>    <tr>        <th>sepulka_id</th>        <th>sepuling_share</th>    </tr></thead>    <tbody>        <tr>            <td>1</td>            <td>0.9</td>        </tr>        <tr>            <td>2</td>            <td>0.8</td>        </tr>        <tr>            <td>3</td>            <td>0.7</td>        </tr>        <tr>            <td>4</td>            <td>0.6</td>        </tr>        <tr>            <td>5</td>            <td>0.5</td>        </tr>    </tbody></table></div>"
      ],
      "text/plain": [
       "<IPython.core.display.HTML object>"
      ]
     },
     "metadata": {},
     "output_type": "display_data"
    },
    {
     "data": {
      "text/plain": [
       "LocalFile('sepulka_state.tsv')"
      ]
     },
     "execution_count": 33,
     "metadata": {},
     "output_type": "execute_result"
    }
   ],
   "source": [
    "tsv_sepulka_state.describe()"
   ]
  },
  {
   "cell_type": "code",
   "execution_count": 34,
   "metadata": {},
   "outputs": [
    {
     "name": "stdout",
     "output_type": "stream",
     "text": [
      "Reading sepulka_state.tsv (6 items): starting...                                                                        \r",
      "23:35+00:00'00=23:35 Reading sepulka_state.tsv: UNK (5/4) (None it/sec)                                                 \r",
      "23:35+00:00'00=23:35 Reading sepulka_state.tsv: Done. 5 items processed (None it/sec)                                   \n"
     ]
    },
    {
     "data": {
      "text/plain": [
       "['sepulka_id sepuling_share', '1 0.9', '2 0.8', '3 0.7', '4 0.6', '5 0.5']"
      ]
     },
     "execution_count": 34,
     "metadata": {},
     "output_type": "execute_result"
    }
   ],
   "source": [
    "list(tsv_sepulka_state.get_data_sheet().get_lines())"
   ]
  },
  {
   "cell_type": "code",
   "execution_count": 35,
   "metadata": {},
   "outputs": [
    {
     "name": "stdout",
     "output_type": "stream",
     "text": [
      "Reading sepulka_state.tsv (6 items): starting...                                                                        \r",
      "23:35+00:00'00=23:35 Reading sepulka_state.tsv: UNK (5/4) (None it/sec)                                                 \r",
      "23:35+00:00'00=23:35 Reading sepulka_state.tsv: Done. 5 items processed (None it/sec)                                   \n"
     ]
    },
    {
     "data": {
      "text/plain": [
       "[(1, 0.9), (2, 0.8), (3, 0.7), (4, 0.6), (5, 0.5)]"
      ]
     },
     "execution_count": 35,
     "metadata": {},
     "output_type": "execute_result"
    }
   ],
   "source": [
    "list(tsv_sepulka_state.get_data_sheet().get_data())"
   ]
  },
  {
   "cell_type": "code",
   "execution_count": 36,
   "metadata": {},
   "outputs": [
    {
     "data": {
      "text/plain": [
       "'C:\\\\Users\\\\Asus\\\\PycharmProjects\\\\snakee_next/test_tmp/sepulka_state.tsv'"
      ]
     },
     "execution_count": 36,
     "metadata": {},
     "output_type": "execute_result"
    }
   ],
   "source": [
    "tsv_sepulka_state.get_full_path()"
   ]
  },
  {
   "cell_type": "code",
   "execution_count": 37,
   "metadata": {},
   "outputs": [
    {
     "name": "stdout",
     "output_type": "stream",
     "text": [
      "<cx.LocalStorage('filesystem').LocalFolder('').LocalFolder('test_tmp', path_is_relative=True, verbose=True, caption='')>\n"
     ]
    }
   ],
   "source": [
    "print(tsv_sepulka_state.get_folder())"
   ]
  },
  {
   "cell_type": "code",
   "execution_count": 38,
   "metadata": {},
   "outputs": [
    {
     "data": {
      "text/plain": [
       "'C:\\\\Users\\\\Asus\\\\PycharmProjects\\\\snakee_next/test_tmp'"
      ]
     },
     "execution_count": 38,
     "metadata": {},
     "output_type": "execute_result"
    }
   ],
   "source": [
    "tsv_sepulka_state.get_folder().get_full_path()"
   ]
  },
  {
   "cell_type": "code",
   "execution_count": 39,
   "metadata": {},
   "outputs": [
    {
     "data": {
      "text/plain": [
       "True"
      ]
     },
     "execution_count": 39,
     "metadata": {},
     "output_type": "execute_result"
    }
   ],
   "source": [
    "tsv_sepulka_state.is_accessible()"
   ]
  },
  {
   "cell_type": "code",
   "execution_count": 40,
   "metadata": {},
   "outputs": [
    {
     "data": {
      "text/plain": [
       "'test_tmp/sepulka_state.tsv'"
      ]
     },
     "execution_count": 40,
     "metadata": {},
     "output_type": "execute_result"
    }
   ],
   "source": [
    "tsv_sepulka_state.get_path()"
   ]
  },
  {
   "cell_type": "code",
   "execution_count": 41,
   "metadata": {},
   "outputs": [
    {
     "data": {
      "text/plain": [
       "True"
      ]
     },
     "execution_count": 41,
     "metadata": {},
     "output_type": "execute_result"
    }
   ],
   "source": [
    "tsv_sepulka_state.is_existing()"
   ]
  },
  {
   "cell_type": "code",
   "execution_count": 42,
   "metadata": {},
   "outputs": [
    {
     "data": {
      "text/plain": [
       "False"
      ]
     },
     "execution_count": 42,
     "metadata": {},
     "output_type": "execute_result"
    }
   ],
   "source": [
    "tmp_str = 'abc'\n",
    "tmp_str.endswith('b')"
   ]
  },
  {
   "cell_type": "code",
   "execution_count": 43,
   "metadata": {},
   "outputs": [
    {
     "name": "stdout",
     "output_type": "stream",
     "text": [
      "Reading sepulka_state.tsv (6 items): starting...                                                                        \r",
      "23:35+00:00'00=23:35 Reading sepulka_state.tsv: UNK (5/4) (4004 it/sec)                                                 \r",
      "23:35+00:00'00=23:35 Reading sepulka_state.tsv: Done. 5 items processed (4004 it/sec)                                   \n"
     ]
    },
    {
     "data": {
      "text/plain": [
       "Sheet('Data sheet')"
      ]
     },
     "execution_count": 43,
     "metadata": {},
     "output_type": "execute_result"
    }
   ],
   "source": [
    "tsv_sepulka_state.get_data_sheet()"
   ]
  },
  {
   "cell_type": "code",
   "execution_count": 44,
   "metadata": {},
   "outputs": [
    {
     "data": {
      "text/plain": [
       "<content.documents.document_display.DocumentDisplay at 0x15edd73a520>"
      ]
     },
     "execution_count": 44,
     "metadata": {},
     "output_type": "execute_result"
    }
   ],
   "source": [
    "LOCATION.get_display()"
   ]
  },
  {
   "cell_type": "code",
   "execution_count": null,
   "metadata": {},
   "outputs": [],
   "source": []
  },
  {
   "cell_type": "code",
   "execution_count": 45,
   "metadata": {},
   "outputs": [
    {
     "data": {
      "text/plain": [
       "LocalFile('sepulka_state.tsv')"
      ]
     },
     "execution_count": 45,
     "metadata": {},
     "output_type": "execute_result"
    }
   ],
   "source": [
    "tsv_sepulka_state.write_stream(\n",
    "    cx.sm.RegularStream(\n",
    "        [\n",
    "            (1, 0.9),\n",
    "            (2, 0.8),\n",
    "            (3, 0.7),\n",
    "            (4, 0.6),\n",
    "            (5, 0.5),\n",
    "        ],\n",
    "        item_type=cx.sm.ItemType.Row,\n",
    "    )\n",
    ")"
   ]
  },
  {
   "cell_type": "code",
   "execution_count": 46,
   "metadata": {},
   "outputs": [
    {
     "data": {
      "text/html": [
       "<div name='sepulka_state.tsv header'><h1>sepulka_state.tsv LocalFile</h1><p style='line-height: 1.1em; margin-top: 0em; margin-bottom: 0em; padding-top: 0em; padding-bottom: 0em;'>LocalFile('sepulka_state.tsv') expected</p></div>"
      ],
      "text/plain": [
       "<IPython.core.display.HTML object>"
      ]
     },
     "metadata": {},
     "output_type": "display_data"
    },
    {
     "data": {
      "text/html": [
       "<div name='Columns'><h3 name='Columns title'>Columns</h3><p style='line-height: 1.1em; margin-top: 0em; margin-bottom: 0em; padding-top: 0em; padding-bottom: 0em;' name='Columns comment'>2023-09-17 23:35 file has 6 rows, 2 valid columns:</p><table><thead>    <tr>        <th>valid</th>        <th>n</th>        <th>type_name</th>        <th>name</th>        <th>example</th>        <th>caption</th>    </tr></thead>    <tbody>        <tr>            <td>-</td>            <td>0</td>            <td>int</td>            <td>sepulka_id</td>            <td>1</td>            <td>id of sepulka (a prominent element of the civilization..</td>        </tr>        <tr>            <td>-</td>            <td>1</td>            <td>float</td>            <td>sepuling_share</td>            <td>0.9</td>            <td>share of sepuling (an activity of Ardrites from the pl..</td>        </tr>    </tbody></table></div>"
      ],
      "text/plain": [
       "<IPython.core.display.HTML object>"
      ]
     },
     "metadata": {},
     "output_type": "display_data"
    },
    {
     "data": {
      "text/html": [
       "<div name='Example'><h3 name='Example title'>Example</h3><p style='line-height: 1.1em; margin-top: 0em; margin-bottom: 0em; padding-top: 0em; padding-bottom: 0em;' name='Example comment'>Example without any filters:</p><table><thead>    <tr>        <th>sepulka_id</th>        <th>sepuling_share</th>    </tr></thead>    <tbody>        <tr>            <td>1</td>            <td>0.9</td>        </tr>        <tr>            <td>2</td>            <td>0.8</td>        </tr>        <tr>            <td>3</td>            <td>0.7</td>        </tr>        <tr>            <td>4</td>            <td>0.6</td>        </tr>        <tr>            <td>5</td>            <td>0.5</td>        </tr>    </tbody></table></div>"
      ],
      "text/plain": [
       "<IPython.core.display.HTML object>"
      ]
     },
     "metadata": {},
     "output_type": "display_data"
    },
    {
     "data": {
      "text/plain": [
       "LocalFile('sepulka_state.tsv')"
      ]
     },
     "execution_count": 46,
     "metadata": {},
     "output_type": "execute_result"
    }
   ],
   "source": [
    "tsv_sepulka_state.describe()"
   ]
  },
  {
   "cell_type": "code",
   "execution_count": null,
   "metadata": {},
   "outputs": [],
   "source": []
  },
  {
   "cell_type": "code",
   "execution_count": 47,
   "metadata": {},
   "outputs": [],
   "source": [
    "struct_sepulka_master = struct(\n",
    "    SEPULKA.get_id_field(),\n",
    "    SEPULKA.get_name_field(),\n",
    "    SEPULKARIUM.get_id_field(),\n",
    "    name='SEPULKA_MASTER',\n",
    "    caption='sepulkas master-data',\n",
    ")"
   ]
  },
  {
   "cell_type": "code",
   "execution_count": 48,
   "metadata": {},
   "outputs": [],
   "source": [
    "tsv_sepulka_master = cx.get_job_folder().folder('test_tmp').file(\n",
    "    'sepulka_master.tsv',\n",
    "    struct=struct_sepulka_master,\n",
    "    caption=struct_sepulka_master.get_caption(),\n",
    ")"
   ]
  },
  {
   "cell_type": "code",
   "execution_count": 49,
   "metadata": {},
   "outputs": [
    {
     "data": {
      "text/html": [
       "<div name='sepulka_master.tsv header'><h1>sepulka_master.tsv LocalFile</h1><p style='line-height: 1.1em; margin-top: 0em; margin-bottom: 0em; padding-top: 0em; padding-bottom: 0em;'>LocalFile('sepulka_master.tsv') expected</p></div>"
      ],
      "text/plain": [
       "<IPython.core.display.HTML object>"
      ]
     },
     "metadata": {},
     "output_type": "display_data"
    },
    {
     "data": {
      "text/html": [
       "<div name='Columns'><h3 name='Columns title'>Columns</h3><p style='line-height: 1.1em; margin-top: 0em; margin-bottom: 0em; padding-top: 0em; padding-bottom: 0em;' name='Columns comment'>2023-09-17 23:35 file has 6 rows, 3 valid columns:</p><table><thead>    <tr>        <th>valid</th>        <th>n</th>        <th>type_name</th>        <th>name</th>        <th>example</th>        <th>caption</th>    </tr></thead>    <tbody>        <tr>            <td>-</td>            <td>0</td>            <td>int</td>            <td>sepulka_id</td>            <td>1</td>            <td>id of sepulka (a prominent element of the civilization..</td>        </tr>        <tr>            <td>-</td>            <td>1</td>            <td>str</td>            <td>sepulka_name</td>            <td>sepulka_01</td>            <td>name of sepulka (a prominent element of the civilizati..</td>        </tr>        <tr>            <td>-</td>            <td>2</td>            <td>int</td>            <td>sepulkarium_id</td>            <td>10</td>            <td>id of sepulkarium (establishments used for sepuling)</td>        </tr>    </tbody></table></div>"
      ],
      "text/plain": [
       "<IPython.core.display.HTML object>"
      ]
     },
     "metadata": {},
     "output_type": "display_data"
    },
    {
     "data": {
      "text/html": [
       "<div name='Example'><h3 name='Example title'>Example</h3><p style='line-height: 1.1em; margin-top: 0em; margin-bottom: 0em; padding-top: 0em; padding-bottom: 0em;' name='Example comment'>Example without any filters:</p><table><thead>    <tr>        <th>sepulka_id</th>        <th>sepulka_name</th>        <th>sepulkarium_id</th>    </tr></thead>    <tbody>        <tr>            <td>1</td>            <td>sepulka_01</td>            <td>10</td>        </tr>        <tr>            <td>2</td>            <td>sepulka_02</td>            <td>20</td>        </tr>        <tr>            <td>3</td>            <td>sepulka_03</td>            <td>10</td>        </tr>        <tr>            <td>4</td>            <td>sepulka_04</td>            <td>20</td>        </tr>        <tr>            <td>5</td>            <td>sepulka_05</td>            <td>10</td>        </tr>    </tbody></table></div>"
      ],
      "text/plain": [
       "<IPython.core.display.HTML object>"
      ]
     },
     "metadata": {},
     "output_type": "display_data"
    },
    {
     "data": {
      "text/plain": [
       "LocalFile('sepulka_master.tsv')"
      ]
     },
     "execution_count": 49,
     "metadata": {},
     "output_type": "execute_result"
    }
   ],
   "source": [
    "tsv_sepulka_master.describe()"
   ]
  },
  {
   "cell_type": "code",
   "execution_count": 50,
   "metadata": {},
   "outputs": [
    {
     "data": {
      "text/plain": [
       "LocalFile('sepulka_master.tsv')"
      ]
     },
     "execution_count": 50,
     "metadata": {},
     "output_type": "execute_result"
    }
   ],
   "source": [
    "tsv_sepulka_master.write_stream(\n",
    "    cx.sm.RegularStream(\n",
    "        [\n",
    "            (1, 'sepulka_01', 10),\n",
    "            (2, 'sepulka_02', 20),\n",
    "            (3, 'sepulka_03', 10),\n",
    "            (4, 'sepulka_04', 20),\n",
    "            (5, 'sepulka_05', 10),\n",
    "        ],\n",
    "        item_type=cx.sm.ItemType.Row,\n",
    "    )\n",
    ")"
   ]
  },
  {
   "cell_type": "code",
   "execution_count": 51,
   "metadata": {},
   "outputs": [
    {
     "data": {
      "text/html": [
       "<div name='sepulka_master.tsv header'><h1>sepulka_master.tsv LocalFile</h1><p style='line-height: 1.1em; margin-top: 0em; margin-bottom: 0em; padding-top: 0em; padding-bottom: 0em;'>LocalFile('sepulka_master.tsv') expected</p></div>"
      ],
      "text/plain": [
       "<IPython.core.display.HTML object>"
      ]
     },
     "metadata": {},
     "output_type": "display_data"
    },
    {
     "data": {
      "text/html": [
       "<div name='Columns'><h3 name='Columns title'>Columns</h3><p style='line-height: 1.1em; margin-top: 0em; margin-bottom: 0em; padding-top: 0em; padding-bottom: 0em;' name='Columns comment'>2023-09-17 23:35 file has 6 rows, 3 valid columns:</p><table><thead>    <tr>        <th>valid</th>        <th>n</th>        <th>type_name</th>        <th>name</th>        <th>example</th>        <th>caption</th>    </tr></thead>    <tbody>        <tr>            <td>-</td>            <td>0</td>            <td>int</td>            <td>sepulka_id</td>            <td>1</td>            <td>id of sepulka (a prominent element of the civilization..</td>        </tr>        <tr>            <td>-</td>            <td>1</td>            <td>str</td>            <td>sepulka_name</td>            <td>sepulka_01</td>            <td>name of sepulka (a prominent element of the civilizati..</td>        </tr>        <tr>            <td>-</td>            <td>2</td>            <td>int</td>            <td>sepulkarium_id</td>            <td>10</td>            <td>id of sepulkarium (establishments used for sepuling)</td>        </tr>    </tbody></table></div>"
      ],
      "text/plain": [
       "<IPython.core.display.HTML object>"
      ]
     },
     "metadata": {},
     "output_type": "display_data"
    },
    {
     "data": {
      "text/html": [
       "<div name='Example'><h3 name='Example title'>Example</h3><p style='line-height: 1.1em; margin-top: 0em; margin-bottom: 0em; padding-top: 0em; padding-bottom: 0em;' name='Example comment'>Example without any filters:</p><table><thead>    <tr>        <th>sepulka_id</th>        <th>sepulka_name</th>        <th>sepulkarium_id</th>    </tr></thead>    <tbody>        <tr>            <td>1</td>            <td>sepulka_01</td>            <td>10</td>        </tr>        <tr>            <td>2</td>            <td>sepulka_02</td>            <td>20</td>        </tr>        <tr>            <td>3</td>            <td>sepulka_03</td>            <td>10</td>        </tr>        <tr>            <td>4</td>            <td>sepulka_04</td>            <td>20</td>        </tr>        <tr>            <td>5</td>            <td>sepulka_05</td>            <td>10</td>        </tr>    </tbody></table></div>"
      ],
      "text/plain": [
       "<IPython.core.display.HTML object>"
      ]
     },
     "metadata": {},
     "output_type": "display_data"
    },
    {
     "data": {
      "text/plain": [
       "LocalFile('sepulka_master.tsv')"
      ]
     },
     "execution_count": 51,
     "metadata": {},
     "output_type": "execute_result"
    }
   ],
   "source": [
    "tsv_sepulka_master.describe()"
   ]
  },
  {
   "cell_type": "code",
   "execution_count": 52,
   "metadata": {},
   "outputs": [],
   "source": [
    "SEPULING_SHARE = SEPULING.get_share_field()"
   ]
  },
  {
   "cell_type": "code",
   "execution_count": 53,
   "metadata": {},
   "outputs": [],
   "source": [
    "from functions.secondary import all_secondary_functions as fs"
   ]
  },
  {
   "cell_type": "code",
   "execution_count": 54,
   "metadata": {},
   "outputs": [
    {
     "name": "stdout",
     "output_type": "stream",
     "text": [
      "7 stream(s) and 0 link(s) closed, 7 stream(es) left                                                                     \n"
     ]
    },
    {
     "data": {
      "text/plain": [
       "7"
      ]
     },
     "execution_count": 54,
     "metadata": {},
     "output_type": "execute_result"
    }
   ],
   "source": [
    "cx.forget_all_streams()"
   ]
  },
  {
   "cell_type": "code",
   "execution_count": 55,
   "metadata": {
    "scrolled": false
   },
   "outputs": [
    {
     "name": "stdout",
     "output_type": "stream",
     "text": [
      "Reading sepulka_master.tsv (6 items): starting...                                                                       \r",
      "23:35+00:00'00=23:35 Reading sepulka_master.tsv: UNK (5/4), 0 err (3996 it/sec)                                         \r",
      "23:35+00:00'00=23:35 Reading sepulka_master.tsv: Done. 5 items processed (3996 it/sec)                                  \n",
      "Reading sepulka_state.tsv (6 items): starting...                                                                        \r",
      "23:35+00:00'00=23:35 Reading sepulka_state.tsv: UNK (5/4), 0 err (4004 it/sec)                                          \r",
      "23:35+00:00'00=23:35 Reading sepulka_state.tsv: Done. 5 items processed (4004 it/sec)                                   \n",
      "Sorting single part without saving...                                                                                   \r",
      "Sorting 5 items in memory...                                                                                            \r",
      "Sorting 5 items has been finished.                                                                                      \r",
      "Merging 1 parts...                                                                                                      \n"
     ]
    }
   ],
   "source": [
    "stream_sepulcarium_state = tsv_sepulka_state.to_records(\n",
    ").join(\n",
    "    tsv_sepulka_master.to_records(),\n",
    "    key=SEPULKA_ID,\n",
    "    how='left',\n",
    ").group_by(\n",
    "    SEPULKARIUM.get_id_field(),\n",
    "    values=[SEPULKA_ID, SEPULING_SHARE],\n",
    ").select(\n",
    "    '*',\n",
    "    SEPULING_SHARE.map(fs.mean(round_digits=2)).to(SEPULING_SHARE),\n",
    "    SEPULKA_ID.map(fs.count()).to(SEPULKA.get_count_field())\n",
    ").collect()"
   ]
  },
  {
   "cell_type": "code",
   "execution_count": 56,
   "metadata": {
    "scrolled": false
   },
   "outputs": [
    {
     "data": {
      "text/html": [
       "<div name='sepulka_state.tsv:stream_549989 header'><h1>sepulka_state.tsv:stream_549989 RegularStream</h1><p style='line-height: 1.1em; margin-top: 0em; margin-bottom: 0em; padding-top: 0em; padding-bottom: 0em;'>RegularStream('sepulka_state.tsv:stream_549989')</p></div>"
      ],
      "text/plain": [
       "<IPython.core.display.HTML object>"
      ]
     },
     "metadata": {},
     "output_type": "display_data"
    },
    {
     "data": {
      "text/html": [
       "<div name='Columns'><h3 name='Columns title'>Columns</h3><p style='line-height: 1.1em; margin-top: 0em; margin-bottom: 0em; padding-top: 0em; padding-bottom: 0em;' name='Columns comment'>Stream has 4 valid columns:</p><table><thead>    <tr>        <th>valid</th>        <th>n</th>        <th>type_name</th>        <th>name</th>        <th>example</th>        <th>caption</th>    </tr></thead>    <tbody>        <tr>            <td>-</td>            <td>0</td>            <td>int</td>            <td>sepulkarium_id</td>            <td>10</td>            <td></td>        </tr>        <tr>            <td>-</td>            <td>1</td>            <td>sequence</td>            <td>sepulka_id</td>            <td>[1, 3, 5]</td>            <td></td>        </tr>        <tr>            <td>-</td>            <td>2</td>            <td>float</td>            <td>sepuling_share</td>            <td>0.7</td>            <td></td>        </tr>        <tr>            <td>-</td>            <td>3</td>            <td>int</td>            <td>sepulka_count</td>            <td>3</td>            <td></td>        </tr>    </tbody></table></div>"
      ],
      "text/plain": [
       "<IPython.core.display.HTML object>"
      ]
     },
     "metadata": {},
     "output_type": "display_data"
    },
    {
     "data": {
      "text/html": [
       "<div name='Example'><h3 name='Example title'>Example</h3><p style='line-height: 1.1em; margin-top: 0em; margin-bottom: 0em; padding-top: 0em; padding-bottom: 0em;' name='Example comment'>Example without any filters:</p><table><thead>    <tr>        <th>sepuling_share</th>        <th>sepulka_count</th>        <th>sepulka_id</th>        <th>sepulkarium_id</th>    </tr></thead>    <tbody>        <tr>            <td>0.7</td>            <td>3</td>            <td>[1, 3, 5]</td>            <td>10</td>        </tr>        <tr>            <td>0.7</td>            <td>2</td>            <td>[2, 4]</td>            <td>20</td>        </tr>    </tbody></table></div>"
      ],
      "text/plain": [
       "<IPython.core.display.HTML object>"
      ]
     },
     "metadata": {},
     "output_type": "display_data"
    },
    {
     "data": {
      "text/plain": [
       "RegularStream('sepulka_state.tsv:stream_549989')"
      ]
     },
     "execution_count": 56,
     "metadata": {},
     "output_type": "execute_result"
    }
   ],
   "source": [
    "stream_sepulcarium_state.describe()"
   ]
  },
  {
   "cell_type": "code",
   "execution_count": null,
   "metadata": {},
   "outputs": [],
   "source": []
  },
  {
   "cell_type": "code",
   "execution_count": 57,
   "metadata": {},
   "outputs": [],
   "source": [
    "dict_sepulkarium_state = stream_sepulcarium_state.get_dict(SEPULKARIUM.get_id_field(), SEPULING_SHARE)\n",
    "dict_sepulka_count_by_sepulkarium = stream_sepulcarium_state.get_dict(SEPULKARIUM.get_id_field(), SEPULKA.get_count_field())"
   ]
  },
  {
   "cell_type": "code",
   "execution_count": 58,
   "metadata": {},
   "outputs": [
    {
     "data": {
      "text/plain": [
       "{10: 0.7, 20: 0.7}"
      ]
     },
     "execution_count": 58,
     "metadata": {},
     "output_type": "execute_result"
    }
   ],
   "source": [
    "dict_sepulkarium_state"
   ]
  },
  {
   "cell_type": "code",
   "execution_count": 59,
   "metadata": {},
   "outputs": [
    {
     "data": {
      "text/plain": [
       "{10: 3, 20: 2}"
      ]
     },
     "execution_count": 59,
     "metadata": {},
     "output_type": "execute_result"
    }
   ],
   "source": [
    "dict_sepulka_count_by_sepulkarium"
   ]
  },
  {
   "cell_type": "code",
   "execution_count": null,
   "metadata": {},
   "outputs": [],
   "source": []
  }
 ],
 "metadata": {
  "kernelspec": {
   "display_name": "Python 3 (ipykernel)",
   "language": "python",
   "name": "python3"
  },
  "language_info": {
   "codemirror_mode": {
    "name": "ipython",
    "version": 3
   },
   "file_extension": ".py",
   "mimetype": "text/x-python",
   "name": "python",
   "nbconvert_exporter": "python",
   "pygments_lexer": "ipython3",
   "version": "3.9.7"
  }
 },
 "nbformat": 4,
 "nbformat_minor": 2
}
